{
 "cells": [
  {
   "cell_type": "code",
   "execution_count": 4,
   "metadata": {},
   "outputs": [
    {
     "name": "stderr",
     "output_type": "stream",
     "text": [
      "Warning message:\n",
      "“package ‘tidymodels’ was built under R version 4.0.2”\n",
      "── \u001b[1mAttaching packages\u001b[22m ────────────────────────────────────── tidymodels 0.1.1 ──\n",
      "\n",
      "\u001b[32m✔\u001b[39m \u001b[34mbroom    \u001b[39m 0.7.0      \u001b[32m✔\u001b[39m \u001b[34mrecipes  \u001b[39m 0.1.13\n",
      "\u001b[32m✔\u001b[39m \u001b[34mdials    \u001b[39m 0.0.9      \u001b[32m✔\u001b[39m \u001b[34mrsample  \u001b[39m 0.0.7 \n",
      "\u001b[32m✔\u001b[39m \u001b[34minfer    \u001b[39m 0.5.4      \u001b[32m✔\u001b[39m \u001b[34mtune     \u001b[39m 0.1.1 \n",
      "\u001b[32m✔\u001b[39m \u001b[34mmodeldata\u001b[39m 0.0.2      \u001b[32m✔\u001b[39m \u001b[34mworkflows\u001b[39m 0.2.0 \n",
      "\u001b[32m✔\u001b[39m \u001b[34mparsnip  \u001b[39m 0.1.3      \u001b[32m✔\u001b[39m \u001b[34myardstick\u001b[39m 0.0.7 \n",
      "\n",
      "Warning message:\n",
      "“package ‘broom’ was built under R version 4.0.2”\n",
      "Warning message:\n",
      "“package ‘dials’ was built under R version 4.0.2”\n",
      "Warning message:\n",
      "“package ‘infer’ was built under R version 4.0.3”\n",
      "Warning message:\n",
      "“package ‘modeldata’ was built under R version 4.0.1”\n",
      "Warning message:\n",
      "“package ‘parsnip’ was built under R version 4.0.2”\n",
      "Warning message:\n",
      "“package ‘recipes’ was built under R version 4.0.1”\n",
      "Warning message:\n",
      "“package ‘tune’ was built under R version 4.0.2”\n",
      "Warning message:\n",
      "“package ‘workflows’ was built under R version 4.0.2”\n",
      "Warning message:\n",
      "“package ‘yardstick’ was built under R version 4.0.2”\n",
      "── \u001b[1mConflicts\u001b[22m ───────────────────────────────────────── tidymodels_conflicts() ──\n",
      "\u001b[31m✖\u001b[39m \u001b[34mscales\u001b[39m::\u001b[32mdiscard()\u001b[39m masks \u001b[34mpurrr\u001b[39m::discard()\n",
      "\u001b[31m✖\u001b[39m \u001b[34mdplyr\u001b[39m::\u001b[32mfilter()\u001b[39m   masks \u001b[34mstats\u001b[39m::filter()\n",
      "\u001b[31m✖\u001b[39m \u001b[34mrecipes\u001b[39m::\u001b[32mfixed()\u001b[39m  masks \u001b[34mstringr\u001b[39m::fixed()\n",
      "\u001b[31m✖\u001b[39m \u001b[34mdplyr\u001b[39m::\u001b[32mlag()\u001b[39m      masks \u001b[34mstats\u001b[39m::lag()\n",
      "\u001b[31m✖\u001b[39m \u001b[34myardstick\u001b[39m::\u001b[32mspec()\u001b[39m masks \u001b[34mreadr\u001b[39m::spec()\n",
      "\u001b[31m✖\u001b[39m \u001b[34mrecipes\u001b[39m::\u001b[32mstep()\u001b[39m   masks \u001b[34mstats\u001b[39m::step()\n",
      "\n"
     ]
    }
   ],
   "source": [
    "library(tidyverse)\n",
    "library(repr)\n",
    "library(RColorBrewer)\n",
    "library(tidymodels)"
   ]
  },
  {
   "cell_type": "code",
   "execution_count": 5,
   "metadata": {},
   "outputs": [
    {
     "name": "stderr",
     "output_type": "stream",
     "text": [
      "Parsed with column specification:\n",
      "cols(\n",
      "  X1 = \u001b[32mcol_double()\u001b[39m,\n",
      "  X2 = \u001b[32mcol_double()\u001b[39m,\n",
      "  X3 = \u001b[32mcol_double()\u001b[39m,\n",
      "  X4 = \u001b[32mcol_double()\u001b[39m,\n",
      "  X5 = \u001b[32mcol_double()\u001b[39m,\n",
      "  X6 = \u001b[32mcol_double()\u001b[39m,\n",
      "  X7 = \u001b[32mcol_double()\u001b[39m,\n",
      "  X8 = \u001b[32mcol_double()\u001b[39m,\n",
      "  X9 = \u001b[32mcol_double()\u001b[39m\n",
      ")\n",
      "\n"
     ]
    }
   ],
   "source": [
    "pulsar_data <- read_csv(\"https://github.com/kseniak1/DSCI100-Group-Project/raw/main/HTRU_2%5B1%5D.csv\", col_names = FALSE) %>%\n",
    "                rename(mean_ip = X1,\n",
    "                      dev_ip = X2,\n",
    "                      excess_ip = X3,\n",
    "                      skewness_ip = X4,\n",
    "                      mean_dm = X5,\n",
    "                      dev_dm = X6,\n",
    "                      excess_dm = X7,\n",
    "                      skewness_dm = X8,\n",
    "                      class = X9)"
   ]
  },
  {
   "cell_type": "code",
   "execution_count": 6,
   "metadata": {},
   "outputs": [],
   "source": [
    "## Split into training and testing data\n",
    "pulsar_split <- initial_split(pulsar_data, prop = 0.75, strata = class)\n",
    "pulsar_training <- training(pulsar_split)\n",
    "pulsar_testing <- testing(pulsar_split)"
   ]
  },
  {
   "cell_type": "code",
   "execution_count": 7,
   "metadata": {},
   "outputs": [
    {
     "name": "stderr",
     "output_type": "stream",
     "text": [
      "New names:\n",
      "* value -> value...1\n",
      "* value -> value...3\n",
      "* value -> value...5\n",
      "\n"
     ]
    },
    {
     "data": {
      "text/html": [
       "<table>\n",
       "<caption>A tibble: 9 × 4</caption>\n",
       "<thead>\n",
       "\t<tr><th scope=col>value</th><th scope=col>max</th><th scope=col>min</th><th scope=col>mean</th></tr>\n",
       "\t<tr><th scope=col>&lt;chr&gt;</th><th scope=col>&lt;dbl&gt;</th><th scope=col>&lt;dbl&gt;</th><th scope=col>&lt;dbl&gt;</th></tr>\n",
       "</thead>\n",
       "<tbody>\n",
       "\t<tr><td>mean_ip    </td><td> 192.617188</td><td> 5.8125000</td><td>111.05518160</td></tr>\n",
       "\t<tr><td>dev_ip     </td><td>  98.778911</td><td>24.7916120</td><td> 46.51712144</td></tr>\n",
       "\t<tr><td>excess_ip  </td><td>   8.069522</td><td>-1.8760112</td><td>  0.47910490</td></tr>\n",
       "\t<tr><td>skewness_ip</td><td>  68.101622</td><td>-1.7918860</td><td>  1.77582383</td></tr>\n",
       "\t<tr><td>mean_dm    </td><td> 209.300167</td><td> 0.2132107</td><td> 12.55639291</td></tr>\n",
       "\t<tr><td>dev_dm     </td><td> 109.712649</td><td> 7.3704322</td><td> 26.27080211</td></tr>\n",
       "\t<tr><td>excess_dm  </td><td>  34.539844</td><td>-2.8123533</td><td>  8.30518033</td></tr>\n",
       "\t<tr><td>skewness_dm</td><td>1191.000837</td><td>-1.9649979</td><td>104.63771059</td></tr>\n",
       "\t<tr><td>class      </td><td>   1.000000</td><td> 0.0000000</td><td>  0.09132896</td></tr>\n",
       "</tbody>\n",
       "</table>\n"
      ],
      "text/latex": [
       "A tibble: 9 × 4\n",
       "\\begin{tabular}{llll}\n",
       " value & max & min & mean\\\\\n",
       " <chr> & <dbl> & <dbl> & <dbl>\\\\\n",
       "\\hline\n",
       "\t mean\\_ip     &  192.617188 &  5.8125000 & 111.05518160\\\\\n",
       "\t dev\\_ip      &   98.778911 & 24.7916120 &  46.51712144\\\\\n",
       "\t excess\\_ip   &    8.069522 & -1.8760112 &   0.47910490\\\\\n",
       "\t skewness\\_ip &   68.101622 & -1.7918860 &   1.77582383\\\\\n",
       "\t mean\\_dm     &  209.300167 &  0.2132107 &  12.55639291\\\\\n",
       "\t dev\\_dm      &  109.712649 &  7.3704322 &  26.27080211\\\\\n",
       "\t excess\\_dm   &   34.539844 & -2.8123533 &   8.30518033\\\\\n",
       "\t skewness\\_dm & 1191.000837 & -1.9649979 & 104.63771059\\\\\n",
       "\t class       &    1.000000 &  0.0000000 &   0.09132896\\\\\n",
       "\\end{tabular}\n"
      ],
      "text/markdown": [
       "\n",
       "A tibble: 9 × 4\n",
       "\n",
       "| value &lt;chr&gt; | max &lt;dbl&gt; | min &lt;dbl&gt; | mean &lt;dbl&gt; |\n",
       "|---|---|---|---|\n",
       "| mean_ip     |  192.617188 |  5.8125000 | 111.05518160 |\n",
       "| dev_ip      |   98.778911 | 24.7916120 |  46.51712144 |\n",
       "| excess_ip   |    8.069522 | -1.8760112 |   0.47910490 |\n",
       "| skewness_ip |   68.101622 | -1.7918860 |   1.77582383 |\n",
       "| mean_dm     |  209.300167 |  0.2132107 |  12.55639291 |\n",
       "| dev_dm      |  109.712649 |  7.3704322 |  26.27080211 |\n",
       "| excess_dm   |   34.539844 | -2.8123533 |   8.30518033 |\n",
       "| skewness_dm | 1191.000837 | -1.9649979 | 104.63771059 |\n",
       "| class       |    1.000000 |  0.0000000 |   0.09132896 |\n",
       "\n"
      ],
      "text/plain": [
       "  value       max         min        mean        \n",
       "1 mean_ip      192.617188  5.8125000 111.05518160\n",
       "2 dev_ip        98.778911 24.7916120  46.51712144\n",
       "3 excess_ip      8.069522 -1.8760112   0.47910490\n",
       "4 skewness_ip   68.101622 -1.7918860   1.77582383\n",
       "5 mean_dm      209.300167  0.2132107  12.55639291\n",
       "6 dev_dm       109.712649  7.3704322  26.27080211\n",
       "7 excess_dm     34.539844 -2.8123533   8.30518033\n",
       "8 skewness_dm 1191.000837 -1.9649979 104.63771059\n",
       "9 class          1.000000  0.0000000   0.09132896"
      ]
     },
     "metadata": {},
     "output_type": "display_data"
    },
    {
     "name": "stderr",
     "output_type": "stream",
     "text": [
      "`summarise()` ungrouping output (override with `.groups` argument)\n",
      "\n"
     ]
    },
    {
     "data": {
      "text/html": [
       "<table>\n",
       "<caption>A tibble: 2 × 2</caption>\n",
       "<thead>\n",
       "\t<tr><th scope=col>class</th><th scope=col>n</th></tr>\n",
       "\t<tr><th scope=col>&lt;dbl&gt;</th><th scope=col>&lt;int&gt;</th></tr>\n",
       "</thead>\n",
       "<tbody>\n",
       "\t<tr><td>0</td><td>12198</td></tr>\n",
       "\t<tr><td>1</td><td> 1226</td></tr>\n",
       "</tbody>\n",
       "</table>\n"
      ],
      "text/latex": [
       "A tibble: 2 × 2\n",
       "\\begin{tabular}{ll}\n",
       " class & n\\\\\n",
       " <dbl> & <int>\\\\\n",
       "\\hline\n",
       "\t 0 & 12198\\\\\n",
       "\t 1 &  1226\\\\\n",
       "\\end{tabular}\n"
      ],
      "text/markdown": [
       "\n",
       "A tibble: 2 × 2\n",
       "\n",
       "| class &lt;dbl&gt; | n &lt;int&gt; |\n",
       "|---|---|\n",
       "| 0 | 12198 |\n",
       "| 1 |  1226 |\n",
       "\n"
      ],
      "text/plain": [
       "  class n    \n",
       "1 0     12198\n",
       "2 1      1226"
      ]
     },
     "metadata": {},
     "output_type": "display_data"
    }
   ],
   "source": [
    "## Table of maximum values in each column\n",
    "max_data <- pulsar_training %>%\n",
    "            map_dfr(max) %>%\n",
    "            pivot_longer(cols = mean_ip:class, names_to = \"value\", values_to = \"max\")\n",
    "\n",
    "## Table of minimum values in each column\n",
    "min_data <- pulsar_training %>%\n",
    "            map_dfr(min) %>%\n",
    "            pivot_longer(cols = mean_ip:class, names_to = \"value\", values_to = \"min\")\n",
    "\n",
    "mean_data <- pulsar_training %>%\n",
    "            map_dfr(mean) %>%\n",
    "            pivot_longer(cols = mean_ip:class, names_to = \"value\", values_to = \"mean\")\n",
    "\n",
    "## Combined min, max and mean data \n",
    "min_max_mean_data <- bind_cols(min_data, max_data, mean_data) %>%\n",
    "                rename(value = value...1) %>%\n",
    "                select(value, max, min, mean)\n",
    "\n",
    "min_max_mean_data\n",
    "\n",
    "## Count number of pulsar and non-pulsar datapoints\n",
    "pulsar_count <- pulsar_training %>%\n",
    "                group_by(class) %>%\n",
    "                summarize(n = n()) %>%\n",
    "                select(class, n)\n",
    "pulsar_count"
   ]
  },
  {
   "cell_type": "code",
   "execution_count": null,
   "metadata": {},
   "outputs": [],
   "source": [
    "## Plot mean values and class\n",
    "means_graph <- ggplot(pulsar_training, aes(x = mean_ip, y = mean_dm, color = as_factor(class))) +\n",
    "                geom_point() +\n",
    "                labs(x = \"Integrated Profile Mean Value\", y = \"DM-SNR Curve Mean Value\", color = \"Class\") +\n",
    "                ggtitle(\"DM-SNR Curve vs Integrated Profile Mean Values\") +\n",
    "                scale_color_manual(labels = c(\"Non-Pulsar\", \"Pulsar\"), values = c(\"brown2\", \"royalblue1\"))\n",
    "means_graph"
   ]
  },
  {
   "cell_type": "code",
   "execution_count": null,
   "metadata": {},
   "outputs": [],
   "source": []
  }
 ],
 "metadata": {
  "kernelspec": {
   "display_name": "R",
   "language": "R",
   "name": "ir"
  },
  "language_info": {
   "codemirror_mode": "r",
   "file_extension": ".r",
   "mimetype": "text/x-r-source",
   "name": "R",
   "pygments_lexer": "r",
   "version": "4.0.0"
  }
 },
 "nbformat": 4,
 "nbformat_minor": 4
}
