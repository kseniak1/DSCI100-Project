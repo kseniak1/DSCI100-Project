{
 "cells": [
  {
   "cell_type": "code",
<<<<<<< HEAD
   "execution_count": 1,
=======
   "execution_count": 21,
>>>>>>> edabcd9e4b8c9dc06fe8b23f971af0559896803a
   "metadata": {},
   "outputs": [
    {
     "name": "stderr",
     "output_type": "stream",
     "text": [
      "── \u001b[1mAttaching packages\u001b[22m ─────────────────────────────────────── tidyverse 1.3.0 ──\n",
      "\n",
      "\u001b[32m✔\u001b[39m \u001b[34mggplot2\u001b[39m 3.3.2     \u001b[32m✔\u001b[39m \u001b[34mpurrr  \u001b[39m 0.3.4\n",
      "\u001b[32m✔\u001b[39m \u001b[34mtibble \u001b[39m 3.0.3     \u001b[32m✔\u001b[39m \u001b[34mdplyr  \u001b[39m 1.0.2\n",
      "\u001b[32m✔\u001b[39m \u001b[34mtidyr  \u001b[39m 1.1.2     \u001b[32m✔\u001b[39m \u001b[34mstringr\u001b[39m 1.4.0\n",
      "\u001b[32m✔\u001b[39m \u001b[34mreadr  \u001b[39m 1.3.1     \u001b[32m✔\u001b[39m \u001b[34mforcats\u001b[39m 0.5.0\n",
      "\n",
      "Warning message:\n",
      "“package ‘ggplot2’ was built under R version 4.0.1”\n",
      "Warning message:\n",
      "“package ‘tibble’ was built under R version 4.0.2”\n",
      "Warning message:\n",
      "“package ‘tidyr’ was built under R version 4.0.2”\n",
      "Warning message:\n",
      "“package ‘dplyr’ was built under R version 4.0.2”\n",
      "── \u001b[1mConflicts\u001b[22m ────────────────────────────────────────── tidyverse_conflicts() ──\n",
      "\u001b[31m✖\u001b[39m \u001b[34mdplyr\u001b[39m::\u001b[32mfilter()\u001b[39m masks \u001b[34mstats\u001b[39m::filter()\n",
      "\u001b[31m✖\u001b[39m \u001b[34mdplyr\u001b[39m::\u001b[32mlag()\u001b[39m    masks \u001b[34mstats\u001b[39m::lag()\n",
      "\n",
      "Warning message:\n",
      "“package ‘tidymodels’ was built under R version 4.0.2”\n",
      "── \u001b[1mAttaching packages\u001b[22m ────────────────────────────────────── tidymodels 0.1.1 ──\n",
      "\n",
      "\u001b[32m✔\u001b[39m \u001b[34mbroom    \u001b[39m 0.7.0      \u001b[32m✔\u001b[39m \u001b[34mrecipes  \u001b[39m 0.1.13\n",
      "\u001b[32m✔\u001b[39m \u001b[34mdials    \u001b[39m 0.0.9      \u001b[32m✔\u001b[39m \u001b[34mrsample  \u001b[39m 0.0.7 \n",
      "\u001b[32m✔\u001b[39m \u001b[34minfer    \u001b[39m 0.5.4      \u001b[32m✔\u001b[39m \u001b[34mtune     \u001b[39m 0.1.1 \n",
      "\u001b[32m✔\u001b[39m \u001b[34mmodeldata\u001b[39m 0.0.2      \u001b[32m✔\u001b[39m \u001b[34mworkflows\u001b[39m 0.2.0 \n",
      "\u001b[32m✔\u001b[39m \u001b[34mparsnip  \u001b[39m 0.1.3      \u001b[32m✔\u001b[39m \u001b[34myardstick\u001b[39m 0.0.7 \n",
      "\n",
      "Warning message:\n",
      "“package ‘broom’ was built under R version 4.0.2”\n",
      "Warning message:\n",
      "“package ‘dials’ was built under R version 4.0.2”\n",
      "Warning message:\n",
      "“package ‘infer’ was built under R version 4.0.3”\n",
      "Warning message:\n",
      "“package ‘modeldata’ was built under R version 4.0.1”\n",
      "Warning message:\n",
      "“package ‘parsnip’ was built under R version 4.0.2”\n",
      "Warning message:\n",
      "“package ‘recipes’ was built under R version 4.0.1”\n",
      "Warning message:\n",
      "“package ‘tune’ was built under R version 4.0.2”\n",
      "Warning message:\n",
      "“package ‘workflows’ was built under R version 4.0.2”\n",
      "Warning message:\n",
      "“package ‘yardstick’ was built under R version 4.0.2”\n",
      "── \u001b[1mConflicts\u001b[22m ───────────────────────────────────────── tidymodels_conflicts() ──\n",
      "\u001b[31m✖\u001b[39m \u001b[34mscales\u001b[39m::\u001b[32mdiscard()\u001b[39m masks \u001b[34mpurrr\u001b[39m::discard()\n",
      "\u001b[31m✖\u001b[39m \u001b[34mdplyr\u001b[39m::\u001b[32mfilter()\u001b[39m   masks \u001b[34mstats\u001b[39m::filter()\n",
      "\u001b[31m✖\u001b[39m \u001b[34mrecipes\u001b[39m::\u001b[32mfixed()\u001b[39m  masks \u001b[34mstringr\u001b[39m::fixed()\n",
      "\u001b[31m✖\u001b[39m \u001b[34mdplyr\u001b[39m::\u001b[32mlag()\u001b[39m      masks \u001b[34mstats\u001b[39m::lag()\n",
      "\u001b[31m✖\u001b[39m \u001b[34myardstick\u001b[39m::\u001b[32mspec()\u001b[39m masks \u001b[34mreadr\u001b[39m::spec()\n",
      "\u001b[31m✖\u001b[39m \u001b[34mrecipes\u001b[39m::\u001b[32mstep()\u001b[39m   masks \u001b[34mstats\u001b[39m::step()\n",
      "\n"
     ]
    }
   ],
   "source": [
    "library(tidyverse)\n",
    "library(repr)\n",
    "library(RColorBrewer)\n",
    "library(tidymodels)"
   ]
  },
  {
   "cell_type": "code",
   "execution_count": 2,
   "metadata": {},
   "outputs": [
    {
     "name": "stderr",
     "output_type": "stream",
     "text": [
      "Parsed with column specification:\n",
      "cols(\n",
      "  X1 = \u001b[32mcol_double()\u001b[39m,\n",
      "  X2 = \u001b[32mcol_double()\u001b[39m,\n",
      "  X3 = \u001b[32mcol_double()\u001b[39m,\n",
      "  X4 = \u001b[32mcol_double()\u001b[39m,\n",
      "  X5 = \u001b[32mcol_double()\u001b[39m,\n",
      "  X6 = \u001b[32mcol_double()\u001b[39m,\n",
      "  X7 = \u001b[32mcol_double()\u001b[39m,\n",
      "  X8 = \u001b[32mcol_double()\u001b[39m,\n",
      "  X9 = \u001b[32mcol_double()\u001b[39m\n",
      ")\n",
      "\n"
     ]
    },
    {
     "ename": "ERROR",
     "evalue": "Error: `tbl` must be a data frame, not a double vector.\n",
     "output_type": "error",
     "traceback": [
      "Error: `tbl` must be a data frame, not a double vector.\nTraceback:\n",
      "1. sample_n(250)",
      "2. sample_n.default(250)",
      "3. bad_args(\"tbl\", \"must be a data frame, not {friendly_type_of(tbl)}.\")",
      "4. glubort(fmt_args(args), ..., .envir = .envir)",
      "5. .abort(text)",
      "6. signal_abort(cnd)"
     ]
    }
   ],
   "source": [
    "set.seed(19)\n",
    "## Load data\n",
    "pulsar_data <- read_csv(\"https://github.com/kseniak1/DSCI100-Group-Project/raw/main/HTRU_2%5B1%5D.csv\", col_names = FALSE) %>%\n",
    "                ## Rename Columns\n",
    "                rename(mean_ip = X1,\n",
    "                      dev_ip = X2,\n",
    "                      excess_ip = X3,\n",
    "                      skewness_ip = X4,\n",
    "                      mean_dm = X5,\n",
    "                      dev_dm = X6,\n",
    "                      excess_dm = X7,\n",
    "                      skewness_dm = X8,\n",
    "                      class = X9) %>%\n",
    "                ## Class as a factor\n",
    "                mutate(class = as.factor(class)) %>%\n",
    "                ## Select a smaller sample, adjusted for equal parts of each class\n",
    "                group_by(class)\n",
    "                sample_n(250)                \n",
    "pulsar_data\n"
   ]
  },
  {
   "cell_type": "code",
   "execution_count": 3,
   "metadata": {},
   "outputs": [],
   "source": [
    "set.seed(19)\n",
    "## Split data into training and testing sets\n",
    "pulsar_split <- initial_split(pulsar_data, prop = 0.75, strata = class)\n",
    "pulsar_train <- training(pulsar_split)\n",
    "pulsar_test <- testing(pulsar_split)"
   ]
  },
  {
   "cell_type": "code",
   "execution_count": 4,
   "metadata": {},
   "outputs": [],
   "source": [
    "set.seed(19)\n",
    "## Completing a 5-fold cross-validation\n",
    "pulsar_vfold <- vfold_cv(pulsar_train, v = 5, strata = class)"
   ]
  },
  {
   "cell_type": "code",
   "execution_count": 5,
   "metadata": {},
   "outputs": [],
   "source": [
    "## Base specification, recipe  and workflow (skeleton for all analysis combos)\n",
    "set.seed(19)\n",
    "knn_tune <- nearest_neighbor(weight_func = 'rectangular', neighbors = tune()) %>%\n",
    "            set_engine('kknn') %>%\n",
    "            set_mode('classification')\n",
    "\n",
    "ks <- tibble(neighbors = seq(from = 1, to = 10, by = 1))\n",
    "### Uncomment below when adding predictors, rename according to graph number\n",
    "# pulsar_recipe <- recipe(class ~ mean_ip/dm + predictor_2, data = pulsar_train) %>%\n",
    "#                     step_scale(all_predictors()) +\n",
    "#                     step_center(all_predictors())\n",
    "\n",
    "# knn_results <- workflow() %>%\n",
    "#       add_recipe(pulsar_recipe) %>%\n",
    "#       add_model(knn_tune) %>%\n",
    "#       tune_grid(resamples = pulsar_vfold, grid = ks) %>%\n",
    "#       collect_metrics() %>% \n",
    "#       filter(.metric == \"accuracy\")\n",
    "# knn_results\n",
    "\n",
    "# knn_plot <- ggplot(knn_results, aes(x = neighbors, y = mean))+\n",
    "#       geom_point() +\n",
    "#       geom_line() +\n",
    "#       labs(x = \"Neighbors\", y = \"Accuracy Estimate\")  +\n",
    "#       ggtitle(\"...\")\n",
    "# knn_plot"
   ]
  },
  {
   "cell_type": "markdown",
   "metadata": {},
   "source": [
    "Six different pairings of variables will be tested:\n",
    "\n",
    "Integrated Profile:\n",
    "1. Mean and Standard Deviation\n",
    "2. Mean and Excess Kurtosis\n",
    "3. Mean and Skewness\n",
    "\n",
    "DM-SNR Curve:\n",
    "\n",
    "4. Mean and Standard Deviation\n",
    "5. Mean and Excess Kurtosis\n",
    "6. Mean and Skewness\n",
    "\n",
    "Each pairing will be tuned and an elbow plot will be used to determine the best neighbor value to use for each pairing"
   ]
  },
  {
   "cell_type": "code",
   "execution_count": 6,
   "metadata": {},
   "outputs": [
    {
     "data": {
      "image/png": "iVBORw0KGgoAAAANSUhEUgAAA0gAAANICAMAAADKOT/pAAADAFBMVEUAAAABAQECAgIDAwME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\nKeZmAAAAAElFTkSuQmCC",
      "text/plain": [
       "plot without title"
      ]
     },
     "metadata": {
      "image/png": {
       "height": 420,
       "width": 420
      }
     },
     "output_type": "display_data"
    }
   ],
   "source": [
    "set.seed(19)\n",
    "## Pairing 1\n",
    "pulsar_recipe1 <- recipe(class ~ mean_ip + dev_ip, data = pulsar_train) %>%\n",
    "                    step_scale(all_predictors()) %>%\n",
    "                    step_center(all_predictors())\n",
    "\n",
    "knn_results1 <- workflow() %>%\n",
    "      add_recipe(pulsar_recipe1) %>%\n",
    "      add_model(knn_tune) %>%\n",
    "      tune_grid(resamples = pulsar_vfold, grid = ks) %>%\n",
    "      collect_metrics() %>% \n",
    "      filter(.metric == \"accuracy\")\n",
    "\n",
    "knn_plot1 <- ggplot(knn_results1, aes(x = neighbors, y = mean))+\n",
    "      geom_point() +\n",
    "      geom_line() +\n",
    "      labs(x = \"Neighbors\", y = \"Accuracy Estimate\") +\n",
    "      ggtitle(\"Integrated Profile Mean and Standard Deviation Accuracies\")\n",
    "knn_plot1\n",
    "\n",
    "k1 <- 3"
   ]
  },
  {
   "cell_type": "code",
   "execution_count": 7,
   "metadata": {},
   "outputs": [
    {
     "data": {
      "image/png": "iVBORw0KGgoAAAANSUhEUgAAA0gAAANICAMAAADKOT/pAAADAFBMVEUAAAABAQECAgIDAwME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\nxDAOhJAYxoH8fy+egZGSi5d8AAAAAElFTkSuQmCC",
      "text/plain": [
       "plot without title"
      ]
     },
     "metadata": {
      "image/png": {
       "height": 420,
       "width": 420
      }
     },
     "output_type": "display_data"
    }
   ],
   "source": [
    "set.seed(19)\n",
    "## Pairing 2\n",
    "pulsar_recipe2 <- recipe(class ~ mean_ip + excess_ip, data = pulsar_train) %>%\n",
    "                    step_scale(all_predictors()) %>%\n",
    "                    step_center(all_predictors())\n",
    "\n",
    "knn_results2 <- workflow() %>%\n",
    "      add_recipe(pulsar_recipe2) %>%\n",
    "      add_model(knn_tune) %>%\n",
    "      tune_grid(resamples = pulsar_vfold, grid = ks) %>%\n",
    "      collect_metrics() %>% \n",
    "      filter(.metric == \"accuracy\")\n",
    "\n",
    "knn_plot2 <- ggplot(knn_results2, aes(x = neighbors, y = mean))+\n",
    "      geom_point() +\n",
    "      geom_line() +\n",
    "      labs(x = \"Neighbors\", y = \"Accuracy Estimate\") +\n",
    "      ggtitle(\"Integrated Profile Mean and Excess Kurtosis Accuracies\")\n",
    "knn_plot2\n",
    "\n",
    "k2 <- 3"
   ]
  },
  {
   "cell_type": "code",
   "execution_count": 8,
   "metadata": {},
   "outputs": [
    {
     "data": {
      "image/png": "iVBORw0KGgoAAAANSUhEUgAABLAAAAJYCAMAAABFOO8oAAADAFBMVEUAAAABAQECAgIDAwME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\nCYSFIIhjAmEhCOKYQFgIgjgm/w8JZRm2cO3gDwAAAABJRU5ErkJggg==",
      "text/plain": [
       "plot without title"
      ]
     },
     "metadata": {
      "image/png": {
       "height": 300,
       "width": 600
      }
     },
     "output_type": "display_data"
    }
   ],
   "source": [
    "set.seed(19)\n",
    "## Pairing 3\n",
    "pulsar_recipe3 <- recipe(class ~ mean_ip + skewness_ip, data = pulsar_train) %>%\n",
    "                    step_scale(all_predictors()) %>%\n",
    "                    step_center(all_predictors())\n",
    "\n",
    "ktib <- tibble(neighbors = 1:30)\n",
    "knn_results3 <- workflow() %>%\n",
    "      add_recipe(pulsar_recipe3) %>%\n",
    "      add_model(knn_tune) %>%\n",
    "      tune_grid(resamples = pulsar_vfold, grid = ktib) %>%\n",
    "      collect_metrics() %>% \n",
    "      filter(.metric == \"accuracy\")\n",
    "\n",
    "options(repr.plot.width = 10, repr.plot.height = 5)\n",
    "knn_plot3 <- ggplot(knn_results3, aes(x = neighbors, y = mean))+\n",
    "      geom_point() +\n",
    "      geom_line() +\n",
    "      labs(x = \"Neighbors\", y = \"Accuracy Estimate\") +\n",
    "      ggtitle(\"Integrated Profile Mean and Skewness Accuracies\") +\n",
    "      scale_x_continuous(breaks = seq(0, 30, by = 2))\n",
    "knn_plot3\n",
    "\n",
    "k3 <- 3"
   ]
  },
  {
   "cell_type": "code",
   "execution_count": 9,
   "metadata": {},
   "outputs": [
    {
     "data": {
      "image/png": "iVBORw0KGgoAAAANSUhEUgAABLAAAAJYCAMAAABFOO8oAAADAFBMVEUAAAABAQECAgIDAwME\nBAQFBQUGBgYHBwcICAgJCQkKCgoLCwsMDAwNDQ0ODg4PDw8QEBARERESEhITExMUFBQVFRUW\nFhYXFxcYGBgZGRkaGhobGxscHBwdHR0eHh4fHx8gICAhISEiIiIjIyMkJCQlJSUmJiYnJyco\nKCgpKSkqKiorKyssLCwtLS0uLi4vLy8wMDAxMTEyMjIzMzM0NDQ1NTU2NjY3Nzc4ODg5OTk6\nOjo7Ozs8PDw9PT0+Pj4/Pz9AQEBBQUFCQkJDQ0NERERFRUVGRkZHR0dISEhJSUlKSkpLS0tM\nTExNTU1OTk5PT09QUFBRUVFSUlJTU1NUVFRVVVVWVlZXV1dYWFhZWVlaWlpbW1tcXFxdXV1e\nXl5fX19gYGBhYWFiYmJjY2NkZGRlZWVmZmZnZ2doaGhpaWlqampra2tsbGxtbW1ubm5vb29w\ncHBxcXFycnJzc3N0dHR1dXV2dnZ3d3d4eHh5eXl6enp7e3t8fHx9fX1+fn5/f3+AgICBgYGC\ngoKDg4OEhISFhYWGhoaHh4eIiIiJiYmKioqLi4uMjIyNjY2Ojo6Pj4+QkJCRkZGSkpKTk5OU\nlJSVlZWWlpaXl5eYmJiZmZmampqbm5ucnJydnZ2enp6fn5+goKChoaGioqKjo6OkpKSlpaWm\npqanp6eoqKipqamqqqqrq6usrKytra2urq6vr6+wsLCxsbGysrKzs7O0tLS1tbW2tra3t7e4\nuLi5ubm6urq7u7u8vLy9vb2+vr6/v7/AwMDBwcHCwsLDw8PExMTFxcXGxsbHx8fIyMjJycnK\nysrLy8vMzMzNzc3Ozs7Pz8/Q0NDR0dHS0tLT09PU1NTV1dXW1tbX19fY2NjZ2dna2trb29vc\n3Nzd3d3e3t7f39/g4ODh4eHi4uLj4+Pk5OTl5eXm5ubn5+fo6Ojp6enq6urr6+vs7Ozt7e3u\n7u7v7+/w8PDx8fHy8vLz8/P09PT19fX29vb39/f4+Pj5+fn6+vr7+/v8/Pz9/f3+/v7////i\nsF19AAAACXBIWXMAABJ0AAASdAHeZh94AAAgAElEQVR4nO2deWAURfbHXwiEM1wiAoKsioLK\nIeLBIaKyXquBKJcCcqigggLigQoILEvwJyIeKyqIrq7IqnhwqIiIigpyiCgohkuUhJA0IIQj\nJBNSv+45ku7JvGRm0jNV0/P9/DFTXVXd/fo57+N0p+khAQAAMQLJDgAAAIIFwgIAxAwQFgAg\nZoCwAAAxA4QFAIgZICwAQMwAYQEAYgYIywZ+pG4RXD30rY+jl0LojhxR3yFwPHYK60cyqHlm\nr9eP+ZZ7+saWEI03Td1874WnVa51wT2/eudN8vZ3oyzfdoiqtxyx3bKD7MkdGySd3mlGTpjR\ncdFUFItSLIcm3lwU4uplDvtnmOHJ5m/59bjDKN0diKO16cogpgVDcDsEIHjsFVatfv363Xhe\nAp2+3LOcUDnbO9Y7wayIt6pQuyEjejehqp+451HSL54Br7CM7fTr260eVf/ctP03alCVi685\nP4nqfRZWdFw0FcZsHOuhiUZ3hrZ62cP+GQ6aYMLw8gqdRb+FtHEAooa9wjrb/b57GFX5zL18\nIc30DB2s2tqkiEM1Exca7yen0BkuY15b6lzkHvEKy7MdcexeOuNk8VoLqNL4w/p79ihK3BhO\ndEw0FcekFL9D20k2C8ua4WAJKgwvFyYvojEhbBuAKBIJYQnxFDU9bizfeWprT8dsesCkiC+p\no7c1eOxeY96IvjTbvWwVljhZmzb5VsqtW3xFZBwNF2IkvW6019CNQjxOi15sUqcbLXYPL6Gr\nhSia27FWtVYTjpqiKxWNec7hR1tVS2rxkGHECbRoS+qpVdu9XXJo3OjufqdUbzfPpBTrofUy\nzuC6BLe6aY7ncAJs3T/DpiMwH7zn2lHJBr1heLoLnr24VtWzR2YGPlCxmm4vbFwvz5v/Fy+u\nWevqr63N0om3BG+a6dmhOcvvXVWvSuPrPxEAhEdkhFV0Ib1pLN9xD613d1x62rsmYW2kc09a\n1rtjX73aGUbTT1iiBa31NWfTxb5m3h/CWjeTaWyN24a9QoPdw7cbIwOp8YOPd6QLc0178Y/G\nNKegK3V4aHRLuqRQiH/S5DrXPnAj0Re+dbnRg83oigl3NxpaohTroS0dQh1nvRvU6uY5nsMJ\nsHX/DJuOwHzwblGYNugNw9198gZqNXriDdR4d6ADNdZfIR6hNzwLven8EQNqufdU0iydeEvw\nppkeYZmyPIdOvXviHfUT3hQAhEVkhCWepIHG8uB1NMJY3Epj3zMJy9WKrt1oXm+I/lFONZp+\nwkqvVOWQb1Yv3wmdF3PdpFEd/QzpYFK9Ar3nRJ3queId6qAXSNF99GjJXvyjMc95nzrqxZbf\nyvieMp2S/qtPe8irAMGPPkH99GZWoxKl+B3ae+5zsWBWN8/xHE6Arftn2HQE5oN3i8K8QU8Y\n7u451OmEML5c9Q10oGJ/tb8Vid+ok3thAd2gb+K3GjWPmJulE2/Zl2mme4fmLLehHfrsPckd\nBQBhESFhLaYr3IoQbeoZ5fEobTELS2w9n6j5gBd/9q03WBRdQe8LP2Ht+6AFjSxepz1ZrzOb\n62a650QshZbprx/RrUL83TP7ryqNS6Lzj8Y85/cP3F++xtG/jK11MdprvWUr+NF2tMZoTzFd\nhLIemscUwaxuneM+nNJb98+w+QhMB+8WhXmDJmF1IfcJ2eGkpOMBDlQ/1Zyiv3amn4yFa+kb\n423WgzvNzQCJN+/LNNO9Q3OMzRKyjHa+ACA8IiSsldTeo4hnaYF+GtL0UmERlih8p28jImr2\nrxPCM0/8VrXxIb/bGnTuLPlst/CUbzHWunnAaC+gu/TX/vSxELXIc/WqPf1RHJ1/NP5zcrOy\nphj90+lBY3EbXWjeX4DRk0lkXEgSy8xXzS2H9l7x1e5gVi+ZYxxOgK37Z9h8BKaDL77/ybfB\nEmEVVSPPd9Y2+ulx6QMtOruSkYtXPV9Fa3oC8GsGSLx5X6aZ7jjMMY6gVvOyBABhEyFhvUfd\nPYrYX/VaIT7TP7iGIgq7GfgumOx8s29NujTfKyz9i8Td1tsaLqdWv5q2fhFZr9Va6ybNaB+r\n1aBQ5CU3dInjJc5bXRydXzTWOR92qeZuun0xw1hhO7Ur3lng0cNUzT263v/PfMWH5hVWMKtb\n5hiHE2Drfhm2HEHJwXuFZdpgibByKcmz/tX0aYAD/ZSuNd6O1KytW+aoNwBhaQZKvGlf5pnG\nDi0xFtxdhej8R3YJAMIjQsJ62DiXc4uob6U/Rf/qh9yKcLk/twtK1tjX2igtj7Dyz09YZTkl\nPH6WXlMl3Eb/tOzNWjfuyhMD6AvxPo0SIo8SJnnxVUepaCxzXqHkMW9//OndgYXFjB6iqu7h\n7wPcl+A5NI8pglm99JwAW/fLsPUoiw/eIyzzBkuEdYSqeNa/Uj+DLH2gPYrtMkf/D0CJRd5+\nUzNQ4k37Ms80duj3X2Lvyz2TKemdUukCICgiI6z8040zE7ciPqNpudUHCOsp4X7fZ3o23eET\nlvg2odWJq83XsD6lM3JL1plHZ7u8zaJ/bhXiPnrNaH9gFtbH+qnMre4/BdYh/9vhS0djnnM6\nuf94/0RgYTGjhYme05+PTMKyHprHFMGsXnpOgK37Z9hylCUH7xaWeYOma1g16C/37Avoh9IH\n+mdi3cFuelMHfTGZNN/GTc0AiTfvyzTTvcNS/yXyXqpc94QAIBwiI6z7qXWRVxEnz7jkTePP\n5mZhdS4+u5tsXCzxCkvcTU/caPkrYR+6t2TrxxvSI97mv6iz8bct918NHzMLy9Wg2fGarYzW\nteS+f1McMEXnH41pzgmqZbSKLg0oLHa0FX1vtB8qUYrfoblNEczqgeaU3rp/hi1HWXLwhigs\nGzQJ6wpa6l6jcvUTpQ90fPElqVaG+a7yfBtO6/6duVk68ZZ9mWa6d2iOcfded/MKMp/rAxA8\nkRDWnv5UY6PwiWhSpe5nFlmF9S861f2Xo6KFNejLEmEdapx0oUVYmbUTvi7Z/JIEGmpcsc0a\nQbV/Nb7BdNM3+2sDs7DEvTTN+EuV8cf01sb/2FdV7l0SnX805jn16U89nsmNjFPZ0t+wuNGx\nxs0BYle9EqX4HdoS990awaweYE7prftn2HqUxQfvFoV5g54w3N1vUGfjDxkPGpfo/Q+0oBF5\n/4mUmGEo7j/U4agQv9ercdDcDJB4875MM723NRTHuImuNvad2zRxf4CPDwDlY6+wavbq1Svl\nwkp0+nee5cH66+5K7r+Um4VVOIDozJsH/KMZVZomSoSlzyHrfVjPUYvjJdtfWJsqtbumdRI1\nM24ayK5NnR64tdYMusEkrG8oOeF3d+s2On3spF5VkotvPA0QjWnOWDrnX//q2PIzOuXJPaWF\nxY1mNqCL77+1juk7kN+h7Uiocsc9Qa0eYE7prftn2HqUxQfvFoV5g54w3N1FPan1w493p3P3\nlxbWO3S5b085STUPiZM3UfN7bk+mucLcDJB4875MMz0X/00x9qezRj4xojmNLuNTBEAZ2P+0\nhkqndn/huHd5sPF2jfsv5dbbGj4b0KJ6pdptR/5smifc13yt/zSng+cP7172/7Njg8r1rnjV\n8w9HNl9do9ZlH2nGswWKhVX0N+rqXXVup+TKTQdtNUVXKhrTnLzxZ1dtNmK/GFKz0c+lhcWO\nbu1Zt1qbuQfoMubQxJMNql4U1OoB5pTeun+GrUdZfPBuUZg36AnD4w/XsxfVqNrqMeNKlv+B\nXum7w10Yp+Mv6HNntq1e84qVxrKpWTrxln2VzPTs0BTjyRc7N0is0/W14svyAIQGnocFAIgZ\nICwAQMwAYQEAYgYICwAQM0BYAICYAcICAMQMEBYAIGaAsAAAMQOEBQCIGSAsAEDMAGEBAGIG\nCAsAEDNAWACAmAHCAgDEDDYK6+ghOzmSZ+vmKsYJ12HZIZSAzHAolhnZEZg4elx2BCbyQ89M\nyaPSbRTWIc1ODp2wdXMVI18ckB1CCYfyZEdgokDslx1CCYeRGYbDx2VHYMIlQl7lIIQVEhAW\nh1plicwwQFgQljQgLA4IiwPCgrCkAWFxQFgcEBaEJQ0IiwPC4oCwICxpQFgcEBYHhAVhSQPC\n4oCwOCAsCEsaEBYHhMUBYUFY0oCwOCAsDggLwpIGhMUBYXFAWBCWNCAsDgiLA8KCsKQBYXFA\nWBwQFoQlDQiLA8LigLAgLGlAWBwQFgeEBWFJA8LigLA4ICwISxoQFgeExQFhQVjSgLA4ICyO\n+BHWkZmD+0/J9rSz0gb2efKQEAdmDOz7aLoQ96fo9IGwogyExQFhccSPsKaO25U5Y+RJo1lw\n99SM3RMeE+KBcTv3Pj0gTwxdom/qAIQVZSAsjkgI65s5C/8Ia8UwM5P96Usf7wtrh2URN8LS\neuzUv2WlbjLa6Sn79Y6U3blpfwqRk7JN9F5vmQthRQcIi8N+YWX0JKLGC8NZNbzM/NhB32Hr\nteHssCziRlirexXpr/e9Y7S3pOQKUZi6wj2wtefBgpTnR9+RlgFhRRkIi8N+Yd1NBvV+DmPV\nsDKTc6l7h633hrHDsogbYS0bYryOn2O8Hh/wsss1P/VDo5074nVx6PZn0tMn335UX9x0r87m\nAjtxnbR1cxXjpJAdgQmlMlPk6Mwcq+H2B10/LXSmPxnGSvd59kdPLv/+x/Q92SfsOpBY/8zk\nBy2soSXCEpuHp/abP3yx3tozfHaRZ8LxPsv115UddNaWvSkAYo0ckkyleo3OatPh6mv7DBg+\nZlzaU6+8/u7Sz9f+sHPPwRP2HeTJQ/ZtKyjyj4S8ysniVjnC+t5zSvied/Goy3XzGv0LVf8l\nxTNGvK2/uA7rHNxvJ4dP2Lq5ipEv7D24CqFUZgrEAdkhlJBrb2b2PNfe643b5oXOgndfC32l\nqd4d3j5q+KBbenbr3K5l81PqBnZZcr3mLdp17HZT6qA7Rz3yxFPPzHvz/Y+/WPvDjt0BM5PH\nHWT6bdWo8QzN1sSVyXdXVE44/90QV/orWGEd6LFdiMM9txjtwlX6meS61MPil9s2GMu7X3AJ\nkddnpW8urmFFB1zD4rD1GtaaUfWp0t/cbmicHsb64WXmGvcOO2Vbe/ds37zhm6UL35r375nT\nHh41bFDfHtdeqrvstLqVArqsat3TWra7tNu1PfoOG/XwxGkz//3WohUrvtmwOaP0/rI8F82e\nDCPU8Nja0B3hJ6GtFfxtDdPH7MqYPLZILNfPBEenaVsGzxb5wxYY28jL7T8rKyNtaPGXUwgr\nOkBYHPYJK+Oly4gajFq/b3hlovM+D2cT4WUm/Qa9nK/aHPT8HekbvluxeOHrc2ZOn/jgqCED\ne9zQ7ZJ2ZzarWyOgyRLrNmx+XrsrrurRZ9A9o8ZPmvnCvAc8AzVXb4gSgzw77BRaWoIX1rFZ\ngwak6dOfmiBE5uO9B851iU0pbpaKnRP6DZy6r3gqhBUdICwOu4T1/Yj6lNBlTqbRTl/8TXi3\nRYWbmR8/+iGs9fz5c/vGdSs+Wfjfec8+PfGxMfcOujnFc4ZZJ+gLaJGkXmgHg3+aExoQFofz\nhLV3XtcEqnfP6opuR63MmG9r2KufYH61YuH/9BPMKdd5BdJvUJQ407O/5qHFD2GFBoTFoVZZ\nVjwzP088najdzD8rHoxameHuw/rBc+54ZdQiecsjrAdCWwvCCg0Ii0OtsqxgZrIX9kik5EFf\n2hKMWplhbxydXU3Xx1k/RS+UkW5BZoa2EoQVGhAWh1plWaHMbJnYzPhytdumYNTKDH+n+8ap\n978Yoj4qxvKpjy/ICXEdCCs0ICwOtcoy/MzoX64qU9UeH9sXjFqZiZd/mgNhuYGwONQqy3Az\n8+vE5kTnTNxmZzBqZQbCgrBkAWFxhCmsFX2rUFKPsB7JUAZqZQbCgrBkAWFxhCOsHTNbEZ09\nMZx72ctGrcxAWBCWLCAsjtCFtWJQdePLVajXgINBrcxAWBCWLCAsjhCFtWvm+URNHt4amWDU\nygyEBWHJAsLiCElYKwbVoErd5tn/OGIvamUGwoKwZAFhcQQvrN9ntiVqNOrHCAajVmYgLAhL\nFhAWR7DC+m5UXePLVVZEg1ErMxAWhCULCIsjKGFlzutG1HCUPY9EKAO1MgNhQViygLA4ghCW\n8Vi+hG7z7P6RhwColRkIC8KSBYTFUZ6w9C9XCVRn0LdRCUatzEBYEJYsICyOsoW1btQpxj9u\n3hOlYNTKDIQFYckCwuIoQ1j7Fl6bQLUHrYpeMGplBsKCsGQBYXGwwvI+li+835wPE7UyA2FB\nWLKAsDgCC8v95JhaNj2WL3jUygyEBWHJAsLiCCQsmx/LFzxqZQbCgrBkAWFxlBKW/uWqClW1\n/ckxQaFWZiAsCEsWEBaHn7Ai8Vi+4FErMxAWhCULCIvDIqwVg6pG6skxQaFWZiAsCEsWEBZH\nibB2zDyP6KwIPJYveNTKDIQFYckCwuLwCSuCj+ULHrUyA2FBWLKAsDjcwto18wKiJqOi+Et7\ngVErMxAWhCULCItDF9aKQTUj+li+4FErMxAWhCULCIsj+9W2RKeN2ig7DjdKZQbCgrCkAWEF\nJiqP5QsehTIDYUFYEoGwAuB+LN9pD0b8sXzBo0pm3EBYEJY0IKxSfD+qPtGl8/YjMwwQFoQl\nDQjLivexfN9U4KfqI4ECmSkBwoKwpAFhmVk3qkHxY/kgLA4IC8KSBoRVjPexfF97FyEsDggL\nwpIGhOVls/9j+SAsDggLwpIGhGXgfSzfSnMfhMUBYUFY0lBJWPMG934ims/Gy5ye2uf5bE37\nxXgsX8tpfruGsDggLAhLGgoJqzfpNPstavv7s7WxwyveZR7LB2FxQFgQljTUEdZr5OaWqO3w\nPvLSIuCTYyAsDggLwpKGOsK6zWOPxHbRoppnh6ctDRwPhMUBYUFY0lBHWL1IDh2ZeCAsDggr\nAMeO2Mlxl62bqxgucVR2CCUcL5AdgY/RHn9cHrUd9vPscDQznKdMZnQKhewITMR6Zo5GQljH\nbeVEob3bqxCFIk92CCUok5m5njO06uuitsdt9YwdnpHFDOe7ohZJ+Zy0uSAqRMxnJhLCwilh\ndFDklDBjACX/+55zmtzwdflzbWP9LU3PGLiFG8UpIQdOCSEsaaghrLXnU+v1qpWlEpnxolZm\nICwISxZKCOu/dajvn5pqZalCZnyolRkIC8KShQLCyno4oeoz7pZaZSk/MyWolRkIC8KShXxh\n/XYFNV3uaapVltIzY0KtzEBYEJYspAtryWl07XZvW62ylJ0ZM2plBsKCsGQhWVg506okPpzt\nW1KrLCEsBggLwpKGXGH9nkKnvFeyqFZZQlgMEBaEJQ2pwvruXLpss2lZrbKEsBggLAhLGjKF\nNbsGDco0d6hVlhAWA4QFYUlDnrAyh1GtudYutcoSwmKAsCAsaUgT1qYOdM43fn1qlSWExQBh\nQVjSkCWsBfWo1x/+nWqVJYTFAGFBWNKQI6yciZUqTyzdrVZZQlgMEBaEJQ0pwkq/ipp8EqBf\nrbKEsBggLAhLGjKE9XkzuvzXQANqlSWExQBhQVjSkCCsmUkJo/YFHFGrLCEsBggLwpJG1IW1\n+2aq/z9mTK2yhLAYICwISxrRFtb351HbH7hBtcoSwmKAsCAsaURZWG/Upr572FG1yhLCYoCw\nICxpRFVYWaOo6rNljKtVlhAWA4QFYUkjmsL6+VI6q8wfmVCrLCEsBggLwpJGFIW1qCFdv6PM\nGWqVJYTFAGFBWNKImrByplWuPDGn7DlqlSWExQBhQVjSiJawdt1EDd4vb5JaZQlhMUBYEJY0\noiSslX+jTuxPlhajVllCWAwQFoQljegI69/VE4btLX+aWmUJYTFAWBCWNKIhrIzbKfm1YCaq\nVZYQFgOEBWFJIwrC2tieLlgX1Ey1yhLCYoCwICxpRF5Y8+tSnz+Dm6pWWUJYDBAWhCWNSAtr\n38OVkqYFO1mtsoSwGCAsCEsaERbWb1dS02VBz1arLCEsBggLwpJGZIW1tBH9fVvw09UqSwiL\nAcKCsKQRUWHNrJIwKrv8acWoVZYQFgOEBWFJI4LC+r0n1X83pDXUKksIiwHCgrCkETlhrW5J\nF24MbRW1yhLCYoCwICxpRExYL/n/Dn0QqFWWEBYDhAVhSSNCwsocRjXnhLyWWmUJYTFAWBCW\nNCIjrJ8upharQl9NrbKEsBggLAhLGhER1oen0j92hrGeWmUJYTFAWBCWNCIgLOZ36INArbKE\nsBggLAhLGvYLK/1qahzod+iDQK2yhLAY4kdYR2YO7j8l29POShvY58lDQhyYMbDvo+nWMQgr\natgurC/OoC6/hLmuWmUJYTHEj7CmjtuVOWPkSaNZcPfUjN0THhPigXE79z49IM88BmFFD7uF\n9e9q3O/QB4FaZQlhMcSNsLQeO/VvUqmbjHZ6yn69I2V3btqfQuSkbDOPQVjRw15hZfSn5P+E\nv7paZQlhMcSNsFb3KtJf73vHaG9JyRWiMHWFe2Brz4PmMQgretgqrLXnUZsNFVhfrbKEsBji\nRljLhhiv4+cYr8cHvOxyzU/90GjnjnjdPPbNVTobimxF2Lu5CiFUCsZOPqpLtx+tyAYcm5kK\ng8xwhJGZwqCFNbREWGLz8NR+84cv1lt7hs8uMo+t6aHzY6GdnCyydXMVo0jIjsCEfZk58UhC\ntVcqtgmHZsYGkBmOMDLjClZY33tO+97zLh51uW5eI8Sm/ktKj+GUMErYdkq4tSud+VUFt6HW\niQ9OCRni5pTwQI/tQhzuucVoF67SV1uXelj8ctsG/zEIK3rYJazFp9F12yu6EbXKEsJiiBth\nieljdmVMHlsklutngqPTtC2DZ4v8YQuMbeQVj0FYUcUeYeVMq5L4cCiP6guMWmUJYTHEj7CO\nzRo0IE2f/tQEITIf7z1wrktsSnGztHgMwooqtghrVwqdstCG7ahVlhAWQ/wIKwQgrOhgh7C+\nPJMu21zxzahWlhAWA4QFYUnDBmG9WJ0GBfE79EGgVllCWAwQFoQljQoLK3MY1ZpnSyiqlSWE\nxQBhQVjSqKiwfryIzvnWnlBUK0sIiwHCgrCkUUFhvV2Pev9hUyiqlSWExQBhQVjSqJCwQvod\n+iBQqywhLAYIC8KSRkWElX4Vnf6pfaGoVpYQFgOEBWFJowLC+rwZdd1qYyiqlSWExQBhQVjS\nCF9YM5NC+x36IFCrLCEsBggLwpJGuMLafTPVf8feUFQrSwiLAcKCsKQRprDWnEftfrA5FNXK\nEsJigLAgLGmEJ6z/1A79d+iDQK2yhLAYICwISxrhCCtrFFV7zv5QVCtLCIsBwoKwpBGGsH66\nhM4O43fog0CtsoSwGCAsCEsaoQvro1Pphh2RCEW1soSwGCAsCEsaoQorZ2Ji5Yk5kYlFsbKE\nsBggLAhLGiEKa+eN1OjjCIWiWllCWAwQFoQljdCEtbI5ddoSqVBUK0sIiwHCgrCkEZKw/l0t\nYZg9j+oLjFplCWExQFgQljRCEFbGQEp+PYKhqFaWEBYDhAVhSSN4Ya07n1qvj2AkmmplCWEx\nQFgQljSCFtZbdanvnxENRbWyhLAYICwISxpBCsvuR/UFRq2yhLAYICwISxrBCeu3btT0s0iH\nolpZQlgMEBaEJY2ghLWkEV1T4d+hDwK1yhLCYoCwICxpBCEsm36HPgjUKksIiwHCgrCkUb6w\nfu9B9d+NRiiqlSWExQBhQVjSKFdYq1tS+41RCUW1soSwGCAsCCsItozrO2a13bGUJayvR/Ud\nn/5SjYg8qi8wapUlhMUAYUFY5fNJMhElvWx3MLywnknSd1iVas61e5c8apUlhMUAYUFY5bLv\nDDKo9YvNwbDC2ljNvcOkb2zeYVmoVZYQFgOEBWGVy0ry0KqbvVx5NTNwrneHa+1PAItaZQlh\nMUBYEFa5fEKS+Mr+BLCoVZYQFgOEBWGVy84kjz8+2m4vu7OYgQWe/dXaY38CWNQqSwiLAcKC\nsMrnn25/DLA7GP6ie6p7hzPt3mFZqFWWEBYDhAVhlU/OjVT5zIm232HAC2vPI82T2kTxT4Sa\namUJYTFAWBBWELSqss3uSLTwf6o+IqhVlsgMA4QFYZXPd3St7ZFoEBYPhMUBYUFY5TOWZtse\niQZh8UBYHBAWhFU+51TdaXskGoTFA2FxQFgQVrmspBttD8QAwuKAsDggLAirXEZRZP5gB2Fx\nQFgcEFYA8mwlv9De7VWIk+JE6CudVWO//ZHkKZcZ2RGYQGY4CmI9M5EQ1pFDdnK0wNbNVYwC\ncTjkdVbQLRGIROdofmS2GxauMDITMRTLjOwITBxTKTOFoWcmNxLCwimhhXvoPxGIRMMpIQ9O\nCTlwSghhlUNO00j9mz4IiwPC4oCwIKxyWEp9IxGJBmHxQFgcEBaEVQ530duRiESDsHggLA4I\nC8Iqm+zT6kTqueoQFgeExQFhQVhl8wH1j0gkGoTFA2FxQFgQVtkMooj9MCCExQFhcUBYEFaZ\nZDWonxWZUCAsHgiLA8KCsMrkHRoSmUg0CIsHwuKAsCCsMrmVPopMJBqExQNhcUBYEFZZZNZr\nuC9CoUBYPBAWB4QFYZXFWzQsQpFoEBYPhMUBYUFYZdGbPolQJBqExQNhcThWWHnrPtCEC8Ly\nI0RhZSSfnhOpUCAsHgiLw6nCejqZaI14fEhYyoKwfLxOIyIViQZh8UBYHA4V1hzq8bIurDcq\nPwVhWQhRWD1oeaQi0SAsHgiLw6HCanuPyNOFJR47F8KyEJqw/qjRPIJnhBAWC4TF4VBhVfvc\nI6zPqkBYFkIT1is0JmKRaBAWD4TF4VBhNVziEda7tSEsC6EJ6wb6KmKRaBAWD4TF4VBh/b3b\ncUNYB1pfC2FZCElYu6q2iFwkGoTFA2FxOFRYXya2GE13DK5d5VsIy0JIwvo3PRy5SDQIiwfC\n4nCosMSK9qRz6Vfh+ArC8vJ3+jZykWgQFg+ExeFUYQmR/eOPB0V4QFhutiedF8FINAiLB8Li\ncKiwOvzqeV94HoRlIRRhzas1TC8AACAASURBVKLHIxiJBmHxQFgcDhUWrXe/uaYkQVgWQhFW\nN1obwUg0CIsHwuJwpLCohIsgLAshCOu3yu0iGYkGYfFAWByOFNam56jnnQZ3PbEHwrIQgrD+\njyZFMhINwuKBsDgcKSwhrtvmeT+yDcKyEIKwOiVsjGQkGoTFA2FxOFRYPlbUh7AsBC+sLYkX\nRzQSDcLigbA4nCqspQO6dunSpWNyAwjLQvDCmkb/imgkGoTFA2FxOFRYC6hyU2pSja76GMKy\nELywLqn0c0Qj0SAsHgiLw6HC6nB9rkjc7Hr+ylwIy0LQwtqU0CmykWgQFg+ExeFQYSUvFSLx\nZyHGjISwLAQtrEn0f5GNRIOweCAsDocKq9qnQtReJcQ3TSAsC0ELq13ir5GNRIOweCAsDocK\nq33vfHHBeCEW1YSwLAQrrA0J3SIciQZh8UBYHA4V1n+pu5iYOGzK6Z0hLAvBCutxmhXhSDQI\niwfC4nCosMSC6eLYNUTN1kNYFoIV1nlV0iMciQZh8UBYHE4VlpvtvxaE4ysIS1tN3SMdiQZh\n8UBYHM4VVu5fbiAsC0EK62F6IdKRaBAWD4TF4VBh7byxpvdxDRCWhSCF1TJpZ6Qj0SAsHgiL\nw6HCurLOgIfGuYGwLAQnrK/ohohHokFYPBAWh0OFVfO7cEQFYXkZQ69EPBINwuKBsDgcKqyG\nmaUsdGTm4P5Tsj3trLSBfZ48pDcyHuxpLN+fotMHwvJxZvXdEY9Eg7B4ICwOhwrrwamlhDV1\n3K7MGSNPGs2Cu6dm7J7wmBCrBs1yC2voEn1TByAsL59Tj8hHokFYPBAWh0OFlf/3Lg9Nd+Pr\n0Xrs1L9lpW4y2ukp+/WOlN3ii5w1bmH1tt6uFe/CGkmvRz4SDcLigbA4HCqs6cUPdff1rO5V\npL/e947R3pKSK0Rh6gq96RZWQcrzo+9IyzCGjmfoaAftJDff1s1VjALxV7lzDjSruTcKoeiZ\nORGV3QRHMJmJGkdUyoxLyI7AxJE82RGYCCMzhwILq3Gvb3f87sbXs2yI8Tp+jttKA152uean\nfugT1qHbn0lPn3z7Ub25soPO2lLnk3HFd9RfdggAOJOTxS2LsKqWuui+bKjx6hGW2Dw8td/8\n4YuFV1hujvdZrr+mT9PZlmcn+YW2bq5inBQnyp0zkt6LQiR5ymVGdgQmkBmOfJfsCEyEk5nA\nwmq/yV9Y33tOCd/zLh51uW5eYxGWGPG2rxXf17CyGydnRCMUXMPiwTUsDodew/r66p/8hHWg\nx3YhDvfcYrQLV+mrrUs97BPW7hdcQuT1WQlhGXxEt0YjEg3C4oGwOBwqrC5NqVZzN8Vd08fs\nypg8tkgs188ER6dpWwbPFuKgtrynpuXl9p+VlZE29ASEZTCE3olGJBqExQNhcThUWF27+yju\nOjZr0IA0ffpTE4TIfLz3wLn6t6o7jRtGUxaJnRP6DZy6T0BYOvsa1M2MSigQFg+ExeFQYVWM\nuBbWezQoKpFoEBYPhMUBYUFYVgbQB1GJRIOweCAsDicKq2WaaFkMhGWhXGHtrXdKVnRCgbB4\nICwOJwrrslnismIgLAvlCuttujM6kWgQFg+ExeFEYVWYeBZWX1oSnUg0CIsHwuJwqLA6/Op5\nX3gehGWhPGFl1m6UHaVQICweCIvDocIiz+MXXFOSICwL5QnrP3RPlCLRICweCIvDkcKiEi6C\nsCyUJ6xUWhalSDQIiwfC4nCksDY9Rz3vNLjriT0QloVyhPVnzaY50QoFwuKBsDgcKSwhrtsW\njqggrFdpVLQi0SAsHgiLw6HCEsf2CnH89ad3QlhWyhHWTbQyWpFoEBYPhMXhUGFtbThduC4m\nqrMRwrJQtrB+r/a3qEWiQVg8EBaHQ4V1S5sd4r80e0fn3hCWhbKFNZvGRi0SDcLigbA4HCqs\nhvOFuLm1EPObQVgWyhbWtbQqapFoEBYPhMXhUGElrRSF9R4RYjnuw7JSprB2JJ0TvUg0CIsH\nwuJwqLCavSqW00oh5jWGsCyUKazn6NHoRaJBWDwQFodDhXVno0ebn10ostviGpaVMoV1FX0X\nvUg0CIsHwuJwqLD2dqQGa4ToV8f/0e4QFi+s9MqtoxiJBmHxQFgcDhWWEIcL9Jf1+0Q4xKmw\nnqYJUYxEg7B4ICwOJwrrr/zi5qZZEJaFsoR1Oa2PXiAGEBYHhMXhRGHRC/rLkXHp+usLYT0l\nKz6F9UviRdGMRIOweCAsDscKK4s+hbBKU4awptM/oxmJBmHxQFgcEBaE5eXShI3RjESDsHgg\nLA4IC8Ly8FOly6IaiQZh8UBYHBAWhOVhCk2PaiQahMUDYXFAWBCWh/aVNkc1Eg3C4oGwOCAs\nCMvNDwmXRzcSDcLigbA4HCmsB9esWfMxzdJfH4SwrLDCmkBPRzcSDcLigbA4HCksMxCWBVZY\nrStvjW4kGoTFA2FxOFFYk8xAWBY4Ya2hq6IciQZh8UBYHE4UVoWJQ2GNo+ejHIkGYfFAWBwQ\nFoRl0KrKtihHokFYPBAWB4QFYemsouuiHYkGYfFAWBwQFoSlM5ZeinYkGoTFA2FxQFgQls5Z\nVXdFOxINwuKBsDgcKqwCCCswgYX1Bd0U9Ug0CIsHwuJwqLAajPoBwgpEYGHdT69GPRINwuKB\nsDgcKqwrK1Hrp/ZCWKUIKKycZtX/iH4oEBYPhMXhUGGJrBe6JiRev+A4hGUloLA+pZujH4kG\nYfFAWBxOFZZO5rOXUO271kJYZgIK6256I/qRaBAWD4TF4WBhCbGlPxF1Xg9hlRBIWNmNa+2R\nEAqExQNhcThXWPtmtqXEG99ffHHiMgirmEDCWkL9JESiQVg8EBaHQ4WVvzClMrWcblx2L7j+\n7FCFle+yk8IiWzdXMYpE6b57aXH0AzEoPClnvwEJlBlpIDMcsZ6ZkhuuLMKqT7WGfuNtf5QQ\nqrAO77eTwyds3VzFyBcH/btyTqu7V0YoimWmQByQHUIJuXmyIzCBzHC4RMir/BVYWJfPO1rc\n/nNeqMKKr1PC92mAjEg0nBLy4JSQw6GnhCLref0lZ0p2qK6KQ2HdTu9JCMQAwuKAsDgcKqzf\nGiXpr7up0U4Iy0JpYWWdckqWlFAgLB4Ii8Ohwkptsc54+7XFLRCWhdLC+h8NlRKJBmHxQFgc\nDhXWqa953l9JhrAslBbWrbRISiQahMUDYXE4VFjV3/K8z68BYVkoJazMug33yQkFwuKBsDgc\nKqzO1xUab7mXdIGwLJQS1n9pmJxINAiLB8LicKiwliWcNXLyE0NPrRTyXe7xJqxe9ImcSDQI\niwfC4nCosMTyDsaPErb9OBxfxZOwMpJPz5EUCoTFA2FxOFVYQuz/+ZdccWQbhGXBX1iv0Ug5\ngRhAWBwQFodzheVmRX0Iy4K/sFLoc0mRaBAWD4TF4VRhLR3QtUuXLh2TG0BYFvyE9UeN5vLO\nCCEsFgiLw6HCWkCVm1KTanRVWBex4kdYL9MYWZFoEBYPhMXhUGF1uD5XJG52PX9lLoRlwU9Y\n19PXsiLRICweCIvDocJKXipE4s9CjBkJYVmwCmtX1RbSItEgLB4Ii8Ohwqr2qRC1VwnxTRMI\ny4JVWC/Qw9Ii0SAsHgiLw6HCat87X1wwXohFNSEsC1ZhdadvpUWiQVg8EBaHQ4X1X+ouJiYO\nm3J6ZwjLgkVY25POlxeJBmHxQFgcDhWWWDBdHLuGqFnoP5kTR8J6hsbLi0SDsHggLA6nCsvN\n9l8LSndCWMVcQWvlRaJBWDwQFodDhdUpvH9EGF/C+q1yO4mRaBAWD4TF4VBhNZ0JYQXELKz/\no0kSI9EgLB4Ii8Ohwlp03ofhnQ3Gk7A6JWyUGIkGYfFAWBwOFVbXNpTUpLkBhGXBJKwtlS6R\nGYkGYfFAWBwOFVaXq7t7gbAsmIT1L5omMxINwuKBsDgcKqyKER/CurjSzzIj0SAsHgiLA8KK\nV2H9mNBZaiQahMUDYXE4VFin+MDPfFkpEdYT9JTUSDQIiwfC4nCosHq6ubR6azytwUqJsNom\n/io1Eg3C4oGwOBwqLC9ZVyyFsCwUC2s9dZMbiQZh8UBYHM4WlljfAcKyUCysx2mW3Eg0CIsH\nwuJwuLCyqkNYFoqFdV6VdLmRaBAWD4TF4WxhFU1rCmFZ8AlrNf1dciQahMUDYXE4VFjt3LRu\nQA9BWBZ8wnqI/i05Eg3C4oGwOBwtrPZXP5cPYVnwCevcpJ2SI9EgLB4Ii8OhwqoYzhfWV/QP\n2ZFoEBYPhMXhVGFlPa+/5EzJhrCseIU1hubIjkSDsHggLA6HCuu3Rkn6625qtBPCsuAV1pnV\nd8uORIOweCAsDocKK7XFOuPt1xa3QFgWPMJaTj1kB2IAYXFAWBwOFdapr3neX8G/JbTiEdYI\nel12IAYQFgeExeFQYVV/y/M+vwaEZcEtrJxmtfbIDsQAwuKAsDgcKqzO1xUab7mXdIGwLLiF\n9TH1lh2HGwiLA8LicKiwliWcNXLyE0NPrbSsuOvIzMH9fX81zEob2OfJQ3oj48Ge/mNxIKy7\n6C3ZcbiBsDggLA6HCkss70A6bU2/9jV13K7MGSNPGs2Cu6dm7J7wmBCrBs3q6TcWB8LKblQn\nU3YcbiAsDgiLw6nCEmL/z7/kmha1Hjv1b1Kpm4x2esp+vSNlt/giZ01Pv7E4ENZHdJvsMDxA\nWBwQFodThVXqxtHVvYr01/veMdpbUnSVFaau0JtuYZnGMt/X+eOInRx32bq5iuESR4/cSR/K\nDsPD8QLZEZgo1DOjDHlqZUZ2BCZiPTNHAwur9I2jy4YYr+PnGK/HB7zscs1P/dAnLNPYyg46\na4WTcTVsUIHfbAQAhE/xdafybhxdNtR49QhLbB6e2m/+8MXCJ6ySsTj4hvURDZUdhRd8w+KI\n9e8RkSPWM8N8wyp94+j3ntO+97yLR12um9f4hOU35vBrWP3pA9lReME1LA5cw+Jw6DWs0jeO\nHuixXYjDPbcY7cJV+mrrUg/7hGUec7yw9tVruE92FF4gLA4Ii8Ohwgpw4+j0MbsyJo8tEsv1\nM8HRadqWwbOFOKgt76lpecVj8SCst+ku2UH4gLA4ICwOhworwI2jx2YNGpCmT39qghCZj/ce\nONclxJ0pBouKx+JBWH1pqewgfEBYHBAWh0OFFeDG0RBwsrDyajfJlh2EDwiLA8LicKqwfDeO\nHhVh4GRhfUD3yo6hGAiLA8LicK6wDNYOw+NlrOT3o89kx1AMhMUBYXE4WFgHnm1D1BXCsvBX\nzeY5smMoBsLigLA4nCqsos9vrUpNHt0Wjq+cLKy3aLTsEEqAsDggLA5nCmvP1DOp6k30eVi6\ncrSwetKXskMoAcLigLA4nCisD/6RSG2f3a9BWKX4vfrZB2THUAKExQFhcThRWFTvgQ36G4RV\nmhdpIoQVGLXKEplhcKKwalL7/8uEsAJxDW2BsAKjVlkiMwxOFNbh2e0p8R8L90JY/uxIaikg\nrMCoVZbIDIMThaWzfngy1aUFEJaV52gShMWgVlkiMwwOFZYQR+ZeQtTp1SMQlomr6GcIi0Gt\nskRmGBwrLJ1NI+pQTQirhPTKbfIhLAa1yhKZYXCysIQ49nonCKuEGTQRwuJQqyyRGQZnCytM\nnCqsLrQewuJQqyyRGQYIK36E9UtiBw3C4lCrLJEZBggrfoSVRlMhLBa1yhKZYYCw4kdYlyT8\nCGGxqFWWyAwDhBU3wtqUcJkGYbGoVZbIDAOEFTfCmkLTISwetcoSmWGAsOJGWO0rbYaweNQq\nS2SGAcKKF2FtSOiqQVg8apUlMsMAYcWLsMbTTA3C4lGrLJEZBggrXoR1QeWtGoTFo1ZZIjMM\nEFacCGsNXW28QVgcapUlMsMAYcWJsB6hF4w3CItDrbJEZhggrDgRVsukbcYbhMWhVlkiMwwQ\nVnwIaxVd536HsDjUKktkhgHCig9hPUAvud8hLA61yhKZYYCw4kNYZ1Xd5X6HsDjUKktkhgHC\nigthraCbPA0Ii0OtskRmGCCsuBDWfTTP04CwONQqS2SGAcKKB2HlNKv+h6cFYXGoVZbIDAOE\nFQ/C+pRu8bYgLA61yhKZYYCw4kFYd9Ob3haExaFWWSIzDBBWHAgru3FyhrcJYXGoVZbIDAOE\nFQfCWkz9fE0Ii0OtskRmGCCsOBDWHbTA14SwONQqS2SGAcJyvrD2nVo309eGsDjUKktkhgHC\ncr6wFtLA4jaExaFWWSIzDBCW84U1kBYWtyEsDrXKEplhgLACcHi/nRw+YevmQiar/in7ihfy\nxUGJofghOzMWCsQB2SGUkJsnOwITyAyHS4S8yl+REFZBoZ2cLLJ1cyGzlO4tWSgS8gIphezM\nWEBmOJAZjjAy44qEsJx1SngrLS5ZwCkhh1onPsgMA04JnS6szNqn7StZgrA41CpLZIYBwnK6\nsN6k4aYlCItDrbJEZhggLKcL6xb6xLQEYXGoVZbIDAOE5XBh/Vnz9BzTIoTFoVZZIjMMEJbD\nhTWP7jMvQlgcapUlMsMAYTlcWDfRCvMihMWhVlkiMwwQlrOFtbtac/MZIYTFolZZIjMMEJaz\nhfUyPWBZhrA41CpLZIYBwnK2sK6nVZZlCItDrbJEZhggLEcLa1fVc6wdEBaHWmWJzDBAWI4W\n1gv0iLUDwuJQqyyRGQYIy9HCupq+tXZAWBxqlSUywwBhOVlY25Mu8OuBsDjUKktkhgHCcrKw\nZtJ4vx4Ii0OtskRmGCAsJwurK63z64GwONQqS2SGAcJysLB+q3yhfxeExaFWWSIzDBCWg4X1\nJE3274KwONQqS2SGAcJysLA6Jmz074KwONQqS2SGAcJyrrA2V7qkVB+ExaFWWSIzDBCWc4U1\nldJK9UFYHGqVJTLDAGE5V1gdKv1cqg/C4lCrLJEZBgjLscL6MaFL6U4Ii0OtskRmGCAsxwpr\nIs0o3QlhcahVlsgMA4TlWGG1SdxauhPC4lCrLJEZBgjLqcJaT1cG6IWwONQqS2SGAcJyqrAe\no2cD9EJYHGqVJTLDAGE5VVjnVUkP0AthcahVlsgMA4TlUGGtpmsCdUNYHGqVJTLDAGE5VFgP\n0ouBuiEsDrXKEplhgLAcKqxzk3YG6oawONQqS2SGAcJyprC+pBsD9kNYHGqVJTLDAGE5U1ij\naW7AfgiLQ62yRGYYICxnCuvM6rsD9kNYHGqVJTLDAGE5UlifUc/AAxAWh1plicwwQFiOFNa9\n9HrgAQiLQ62yRGYYICwnCiunWa09gUcgLA61yhKZYYCwnCispdSHGYGwONQqS2SGAcJyorDu\novnMCITFoVZZIjMMEJYDhZXdqE4mMwRhcahVlsgMA4TlQGF9SLdxQxAWh1plicwwQFgOFNZg\nepcbgrA41CpLZIYhfoR1ZObg/lOyPe2stIF9njxU0nd/ik4fpwgrq0H9LG4MwuJQqyyRGYb4\nEdbUcbsyZ4w8aTQL7p6asXvCYyV9Q5fomzrgFGG9S4PZMQiLQ62yRGYY4kZYWo+d+jeq1E1G\nOz1lv96Rsru4r/d6y9wYF9Zt9CE7BmFxqFWWyAxD3Ahrda8i/fW+d4z2lpRcIQpTV/j6ClKe\nH31HWoZDhLW3XsN97CCExaFWWSIzDHEjrGVDjNfxc4zX4wNedrnmp37o6zt0+zPp6ZNvP2p8\n+Zqmsy3PTvILbd1cuSykEfzgSXEiepGUR7QzUyYnhewITCAzHPku2RGYCCczQQtraImwxObh\nqf3mD19s6TveZ7n+urKDztqyN6U4A+hb2SEAAAJysrhVjrC+95z+veddPOpy3bzG2jfibf0l\n91ed7L/s5Ei+rZsrj6zkJgf40QJxKHqhlEeUM1M2LpUyc1StzMiOwMTRE7IjMBFGZg4HK6wD\nPbYLcbjnFqNduEo/k1yXetjXt/sFlxB5fVb65sb0NazX6d4yRnENi0OtKzXIDEPcXMMS08fs\nypg8tkgsXyzE6DRty+DZxX25/WdlZaQNPeEIYfWkz8oYhbA41CpLZIYhfoR1bNagAWn69Kcm\nCJH5eO+Bc10lfTsn9Bs4dV/x1FgW1p81zsgpYxjC4lCrLJEZhvgRVgjEsrDm0OiyhiEsDrXK\nEplhgLAcJqx/0JdlDUNYHGqVJTLDAGE5S1i/V2tR5jiExaFWWSIzDBCWs4T1Ij1U5jiExaFW\nWSIzDBCWs4R1DX1T5jiExaFWWSIzDBCWo4S1Pem8sidAWBxqlSUywwBhOUpYz9JjZU+AsDjU\nKktkhgHCcpSwrqTvy54AYXGoVZbIDAOE5SRh/Va5bTkzICwOtcoSmWGAsJwkrKfoiXJmQFgc\napUlMsMAYTlJWJ0TNpYzA8LiUKsskRkGCMtBwvolsUN5UyAsDrXKEplhgLAcJKw0mlreFAiL\nQ62yRGYYICwHCeuShB/LmwJhcahVlsgMA4TlHGFtSuhY7hwIi0OtskRmGCAs5whrMj1Z7hwI\ni0OtskRmGCAs5wjrwkqby50DYXGoVZbIDAOE5RhhbUi4ovxJEBaHWmWJzDBAWI4R1nh6pvxJ\nEBaHWmWJzDBAWI4R1vmVfyt/EoTFoVZZIjMMEJZThLWGrg5iFoTFoVZZIjMMEJZThPUIvRDE\nLAiLQ62yRGYYICynCKtl0vYgZkFYHGqVJTLDAGE5RFhf0/XBTIOwONQqS2SGAcJyiLDG0MvB\nTIOwONQqS2SGAcJyiLDOqrormGkQFodaZYnMMEBYzhDWCkoJah6ExaFWWSIzDBCWM4R1H70W\n1DwIi0OtskRmGCAsRwgrp1mNP4KaCGFxqFWWyAwDhOUIYX1CtwQ3EcLiUKsskRkGCMsRwhpO\nbwY3EcLiUKsskRkGCMsJwspunJwR3EwIi0OtskRmGCAsJwhrEd0a5EwIi0OtskRmGCAsJwhr\nKP0vyJkQFodaZYnMMEBYDhDWvlPrZgY5FcLiUKsskRkGCMsBwlpItwc7FcLiUKsskRkGCMsB\nwhpI7wc7FcLiUKsskRkGCCv2hbW3/ilZwc6FsDjUKktkhgHCin1hLaA7gp4LYXGoVZbIDAOE\nFfvC6keLg54LYXGoVZbIDAOEFfPCyqx9WnbQkyEsDrXKEplhgLBiXlhv0N3BT4awONQqS2SG\nAcIKwJFDdnK0wNbNlaIXfR785AJxOHKRhMrRfNkRmHAhMwwuITsCE8dUykxh6JnJjYSw8mwl\nv9De7flxoFbT48HPPilORC6UUIlwZkLjpM3/2SsEMsNREOuZiYSwYuqUcB7dH8JsnBJyqHXi\ng8ww4JQw1oV1E30RwmwIi0OtskRmGCCsGBfW79X+Fsp0CItDrbJEZhggrBgX1kv0QCjTISwO\ntcoSmWGAsGJcWNfRqlCmQ1gcapUlMsMAYcW2sHYknRPSfAiLQ62yRGYYIKzYFtbzNC6k+RAW\nh1plicwwQFixLayr6LuQ5kNYHGqVJTLDAGHFtLDSq1wQ2goQFodaZYnMMEBYMS2smTQ+tBUg\nLA61yhKZYYCwYlpYXWldaCtAWBxqlSUywwBhxbKwfklsH+IaEBaHWmWJzDBAWLEsrOk0JcQ1\nICwOtcoSmWGAsGJZWJclbAxxDQiLQ62yRGYYIKwYFtZPlS4NdRUIi0OtskRmGCCsGBbWP2l6\nqKtAWBxqlSUywwBhxbCwLqq0OdRVICwOtcoSmWGAsGJXWD8mdAl5HQiLQ62yRGYYIKzYFdZE\nmhHyOhAWh1plicwwQFixK6w2lbeGvA6ExaFWWSIzDBBWzAprPV0V+koQFodaZYnMMEBYMSus\nR+m50FeCsDjUKktkhgHCillhtaqyLfSVICwOtcoSmWGAsGJVWKvp2jDWgrA41CpLZIYBwopV\nYT1Is8NYC8LiUKsskRkGCCtWhXVO1Z1hrAVhcahVlsgMA4QVo8JaSTeGsxqExaFWWSIzDBBW\njAprFM0NZzUIi0OtskRmGCAsO4T19v33v80ORkBYe18YXrfqH+GsCWFxqFWWyAwDhFVxYWXf\nSDr/yGaG7RfWtlbGDh8NZ1UIi0OtskRmGCCsigsrjdxMY4btF1Yfzw4/DmNVCItDrbJEZhgg\nrIoLq6PHH/V7BCa1FzMQNomeHd4dcrYgLB61yhKZYYCwKi6sNiSHASFnC8LiUasskRkGCKvi\nwurn8ceNGwKzaSszEDZnenYY8uNGNQiLR62yRGYYIKyKC+uH2oY+am9ghu2/hvU/t6/O2xPG\nqhAWh1plicwwQFgVF5b25RVJSV1XcqMRuK3hrfMTa/UO+fHIBhAWh1plicwwQFg2CEvTsrL4\nsYjcOJqRE956EBaHWmWJzDBAWLYIqywi+VP1IQNhcahVlsgMA4QFYUkDwuKAsDggLAhLGhAW\nB4TFAWFBWNKAsDggLA4IC8KSBoTFAWFxxI+wjswc3H9KtqedlTawz5OHSvrMYxBW1ICwOCAs\njvgR1tRxuzJnjDxpNAvunpqxe8JjJX2mMQgrekBYHBAWR9wIS+uxU/8mlbrJaKen7Nc7Unb7\n+sxjEFb0gLA4ICyOuBHW6l5F+ut97xjtLSm5QhSmrvD1mccgrOgBYXFAWBxxI6xlQ4zX8XOM\n1+MDXna55qd+6Oszja0fqPOTy04Ki2zdXMUoErIjMFF4UnYEJpAZDmSGI4zMFAQtrKElwhKb\nh6f2mz98sa/PNPbNVTobimxF2Lu5CiFUCkYpkBkOZIYjjMwUBius7z2nfe95F4+6XDev8fX5\njeGUMErglJADp4QccXNKeKDHdiEO99xitAtX6autSz3s6zOPQVjRA8LigLA44kZYYvqYXRmT\nxxaJ5YuFGJ2mbRk8u6TP9w5hRRUIiwPC4ogfYR2bNWhAmj79qQlCZD7ee+BcV0mf7x3CiioQ\nFgeExRE/wgoBCCs6QFgcEBYHhAVhSQPC4oCwOCAsCEsaEBYHhMUBYcUX70w7JjsERXl7Wr7s\nEBTlv9MKy58Ul/xnWlH5kzggrGB4oMPB8ifFJSM7HJUdgqIM6wCVB2ZoBwgrwkBYHBAWB4TF\nAWFFHAiLA8LigLA4vC9/ygAABXZJREFUIKyIA2FxQFgcEBYHhAUAiA8gLABAzABhAQBiBggL\nABAzQFhlcWDGwL6Ppnva96fo9JEbjzqYs+H360nxzc8pbpa6F/CZKSbjwZ7Gm/mzEtbnBsIq\niwfG7dz79IA8d3voEk3TDkgOSBnM2fD79aT4psD4lyS/9PnTvYDPjI9Vg2a5hWX+rIT1uYGw\nyiA3Tf/c5aRscy/0Xi85GqUwZcP/15OAmPC25x2fGR9f5KwxhGX+rIT3uYGwymNrT/c9WAUp\nz4++Iy1DdjSKYM6G/68ngVV3utzv+MyYcAvL/FkJ73MDYZVD7ojX3e+Hbn8mPX3y7bhN0o05\nG+ZfVgI6J+/53NPAZ8aEW1jmz0p4nxsIq2z2DJ9tui33eJ/l8kJRDm82LL+sBPQvWEPMz2nA\nZ8aDR1imz0p4nxsIq0w29V9iWR7xtqRAlMSTDf9fT4p7plhrEJ8ZN25hmT8r4X1uIKyy+OW2\nDb7m7hdcQuT1WSkzHHUwZ8P/15PinaPF15HxmTHhFpb5sxLe5wbCKoP8YQuMP1LnGb8ZlNt/\nVlZG2tATsmNSg+JsGL+m5PfrSfHOphT3vUX4zJg5qC3vaVSS+Ve4wvrcQFhlsMl3E6Dxm0E7\nJ/QbOHWf7JBUwZcNIzN+v54U73zZw/03QnxmzNzprqRFll/hCutzA2EBAGIGCAsAEDNAWACA\nmAHCAgDEDBAWACBmgLAAADEDhAUAiBkgLABAzABhAXuZRB09Ny936G7uvqyleal7c1+ri6Uf\ngLKBsIC9TCJ6xd2wCmtWmnkJwgLhAWEBe5lU7YZ6OUbDKiwrEBYIDwgL2Msk2lZtsNFwC+ur\nvydXbz9PeE4JT05qWvWi5fdV0YV19q7ra9Xqe0AXVqsfLq9Rb9Bf+pRPutaqdsFM/XyyS9cl\nTTuJvXedUfW0W7bKPBagHBAWsJdJdGIKfS08wlqReMWS5ffQ0x5hTaO+n73a+NKaurD+1i7t\no4cShuhyatryqQ8fTkgR4sOE6z9aMZYeFuLqtq1eXCo6Nnp15fw2DY/JPiCgEhAWsJdJlHfi\nnPMLPMJq38LwTY/kPENYRae11r8+fU+GsOgDvb9zQ11YtFBv9ac/RKsz8vVWapX9ntHD9Ki+\nuCMtU+rRAMWAsIC96MISn9GTbmFl0+g8nZdpnSGsvfSAMaG1Iaxqxl8SB1XShVVVd5t4nT7I\npHuM0Xm0VHRP0vsKTmm+Aj8dBvyAsIC9GMISfWrsNoT1I3n5wBDWj/SUMaFXTd9F9zv1T1+X\nM43Wp/TKOppqtD6hOaJ7E6P17Zl0Sq/5LkmHAdQEwgL24hZWRnIPcbEhrDvWuNEMYX1vXMsS\nordVWGcbrU9o7nqaYrQ+pld9f0Ms/OKh8+ni41KOAigKhAXsxS0sMZMWdeouDtBgX7curG3G\nBXUh2liFVdM473uNFmfRcKNvDi0z3fQgZtN/ohc6UB8IC9iLR1iuNs07dxfi0jrG/QpvjHcZ\nwnLVaa0vrCOrsMj4FazUSlmidRNjxetrHPaMbuhnPBp9B82QdBxASSAsYC8eYYlvExJ0YX1V\npe0bn02oMsRzW8NYGvLZK3/rYhFWp6bnvrRiHN2mnwxWunbRp/fSdO9oVnLbeZ//r3PtHRKP\nBSgHhAXsxSssMZSMG0e/uSa5yrlPuTzCOnF/g5pd1/avZRbWRZ02XF693l1H9MXll9es2v41\n4Rv96eaGVZrcvFHOUQBFgbBAlOneWHYEIHaBsEDUmHWL/lXrrzo3yI4DxC4QFogab9JNi97p\nlLBCdhwgdoGwQPR4s33NGp0/lh0FiGEgLABAzABhAQBiBggLABAzQFgAgJgBwgIAxAwQFgAg\nZoCwAAAxA4QFAIgZ/h80M2qitNavVAAAAABJRU5ErkJggg==",
      "text/plain": [
       "plot without title"
      ]
     },
     "metadata": {
      "image/png": {
       "height": 300,
       "width": 600
      }
     },
     "output_type": "display_data"
    }
   ],
   "source": [
    "set.seed(19)\n",
    "## Pairing 4\n",
    "pulsar_recipe4 <- recipe(class ~ mean_dm + dev_dm, data = pulsar_train) %>%\n",
    "                    step_scale(all_predictors()) %>%\n",
    "                    step_center(all_predictors())\n",
    "\n",
    "knn_results4 <- workflow() %>%\n",
    "      add_recipe(pulsar_recipe4) %>%\n",
    "      add_model(knn_tune) %>%\n",
    "      tune_grid(resamples = pulsar_vfold, grid = ks) %>%\n",
    "      collect_metrics() %>% \n",
    "      filter(.metric == \"accuracy\")\n",
    "\n",
    "knn_plot4 <- ggplot(knn_results4, aes(x = neighbors, y = mean))+\n",
    "      geom_point() +\n",
    "      geom_line() +\n",
    "      labs(x = \"Neighbors\", y = \"Accuracy Estimate\") +\n",
    "      ggtitle(\"DM-SNR Curve Mean and Standard Deviation Accuracies\")\n",
    "knn_plot4\n",
    "\n",
    "k4 <- 7"
   ]
  },
  {
   "cell_type": "code",
   "execution_count": 10,
   "metadata": {},
   "outputs": [
    {
     "data": {
      "image/png": "iVBORw0KGgoAAAANSUhEUgAABLAAAAJYCAMAAABFOO8oAAADAFBMVEUAAAABAQECAgIDAwME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",
      "text/plain": [
       "plot without title"
      ]
     },
     "metadata": {
      "image/png": {
       "height": 300,
       "width": 600
      }
     },
     "output_type": "display_data"
    }
   ],
   "source": [
    "set.seed(19)\n",
    "## Pairing 5\n",
    "pulsar_recipe5 <- recipe(class ~ mean_dm + excess_dm, data = pulsar_train) %>%\n",
    "                    step_scale(all_predictors()) %>%\n",
    "                    step_center(all_predictors())\n",
    "\n",
    "knn_results5 <- workflow() %>%\n",
    "      add_recipe(pulsar_recipe5) %>%\n",
    "      add_model(knn_tune) %>%\n",
    "      tune_grid(resamples = pulsar_vfold, grid = ktib) %>%\n",
    "      collect_metrics() %>% \n",
    "      filter(.metric == \"accuracy\")\n",
    "\n",
    "knn_plot5 <- ggplot(knn_results5, aes(x = neighbors, y = mean))+\n",
    "      geom_point() +\n",
    "      geom_line() +\n",
    "      labs(x = \"Neighbors\", y = \"Accuracy Estimate\") +\n",
    "      ggtitle(\"DM-SNR Curve Mean and Excess Kurtosis Accuracies\")\n",
    "knn_plot5\n",
    "\n",
    "k5 <- 3"
   ]
  },
  {
   "cell_type": "code",
   "execution_count": 11,
   "metadata": {},
   "outputs": [
    {
     "data": {
      "image/png": "iVBORw0KGgoAAAANSUhEUgAABLAAAAJYCAMAAABFOO8oAAADAFBMVEUAAAABAQECAgIDAwME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",
      "text/plain": [
       "plot without title"
      ]
     },
     "metadata": {
      "image/png": {
       "height": 300,
       "width": 600
      }
     },
     "output_type": "display_data"
    }
   ],
   "source": [
    "set.seed(19)\n",
    "## Pairing 6\n",
    "pulsar_recipe6 <- recipe(class ~ mean_dm + skewness_dm, data = pulsar_train) %>%\n",
    "                    step_scale(all_predictors()) %>%\n",
    "                    step_center(all_predictors())\n",
    "\n",
    "knn_results6 <- workflow() %>%\n",
    "      add_recipe(pulsar_recipe6) %>%\n",
    "      add_model(knn_tune) %>%\n",
    "      tune_grid(resamples = pulsar_vfold, grid = ks) %>%\n",
    "      collect_metrics() %>% \n",
    "      filter(.metric == \"accuracy\")\n",
    "\n",
    "knn_plot6 <- ggplot(knn_results6, aes(x = neighbors, y = mean))+\n",
    "      geom_point() +\n",
    "      geom_line() +\n",
    "      labs(x = \"Neighbors\", y = \"Accuracy Estimate\") +\n",
    "      ggtitle(\"DM-SNR Curve Mean and Skewness Accuracies\")\n",
    "knn_plot6\n",
    "\n",
    "k6 <- 3"
   ]
  },
  {
   "cell_type": "markdown",
   "metadata": {},
   "source": [
    "Running each model with the ideal number of neighbors to report accuracy."
   ]
  },
  {
   "cell_type": "code",
   "execution_count": 12,
   "metadata": {},
   "outputs": [],
   "source": [
    "## Skeleton\n",
    "\n",
    "# knn_spec- <- nearest_neighbor(weight_func = 'rectangular', neighbors = k-) %>%\n",
    "#                 set_engine('kknn') %>%\n",
    "#                 set_mode('classification')\n",
    "# acc_recipe- <- recipe(class ~ pr1 + pr2, data = pulsar_train) %>%\n",
    "#                 step_center(all_predictors()) %>%\n",
    "#                 step_scale(all_predictors())\n",
    "# acc_fit- <- workflow() %>%\n",
    "#       add_recipe(acc_recipe-) %>%\n",
    "#       add_model(knn_spec-) %>%\n",
    "#       fit(data = pulsar_train)\n",
    "# pulsar_predict- <- predict(acc_fit-, pulsar_test) %>%\n",
    "#                     bind_cols(pulsar_test) %>%\n",
    "#                     metrics(truth = class, estimate = .pred_class) %>%\n",
    "#                     filter(.metric == 'accuracy')\n",
    "# pulsar_predict-"
   ]
  },
  {
   "cell_type": "code",
   "execution_count": 13,
   "metadata": {},
   "outputs": [
    {
     "data": {
      "text/html": [
       "<table>\n",
       "<caption>A tibble: 1 × 3</caption>\n",
       "<thead>\n",
       "\t<tr><th scope=col>.metric</th><th scope=col>.estimator</th><th scope=col>.estimate</th></tr>\n",
       "\t<tr><th scope=col>&lt;chr&gt;</th><th scope=col>&lt;chr&gt;</th><th scope=col>&lt;dbl&gt;</th></tr>\n",
       "</thead>\n",
       "<tbody>\n",
       "\t<tr><td>accuracy</td><td>binary</td><td>0.9642378</td></tr>\n",
       "</tbody>\n",
       "</table>\n"
      ],
      "text/latex": [
       "A tibble: 1 × 3\n",
       "\\begin{tabular}{lll}\n",
       " .metric & .estimator & .estimate\\\\\n",
       " <chr> & <chr> & <dbl>\\\\\n",
       "\\hline\n",
       "\t accuracy & binary & 0.9642378\\\\\n",
       "\\end{tabular}\n"
      ],
      "text/markdown": [
       "\n",
       "A tibble: 1 × 3\n",
       "\n",
       "| .metric &lt;chr&gt; | .estimator &lt;chr&gt; | .estimate &lt;dbl&gt; |\n",
       "|---|---|---|\n",
       "| accuracy | binary | 0.9642378 |\n",
       "\n"
      ],
      "text/plain": [
       "  .metric  .estimator .estimate\n",
       "1 accuracy binary     0.9642378"
      ]
     },
     "metadata": {},
     "output_type": "display_data"
    }
   ],
   "source": [
    "## Graph 1\n",
    "knn_spec1 <- nearest_neighbor(weight_func = 'rectangular', neighbors = k1) %>%\n",
    "                set_engine('kknn') %>%\n",
    "                set_mode('classification')\n",
    "acc_recipe1 <- recipe(class ~ mean_ip + dev_ip, data = pulsar_train) %>%\n",
    "                step_center(all_predictors()) %>%\n",
    "                step_scale(all_predictors())\n",
    "acc_fit1 <- workflow() %>%\n",
    "      add_recipe(acc_recipe1) %>%\n",
    "      add_model(knn_spec1) %>%\n",
    "      fit(data = pulsar_train)\n",
    "pulsar_predict1 <- predict(acc_fit1, pulsar_test) %>%\n",
    "                    bind_cols(pulsar_test) %>%\n",
    "                    metrics(truth = class, estimate = .pred_class) %>%\n",
    "                    filter(.metric == 'accuracy')\n",
    "pulsar_predict1"
   ]
  },
  {
   "cell_type": "code",
<<<<<<< HEAD
   "execution_count": 14,
=======
   "execution_count": 36,
>>>>>>> edabcd9e4b8c9dc06fe8b23f971af0559896803a
   "metadata": {},
   "outputs": [
    {
     "data": {
      "text/html": [
       "<table>\n",
       "<caption>A tibble: 1 × 3</caption>\n",
       "<thead>\n",
       "\t<tr><th scope=col>.metric</th><th scope=col>.estimator</th><th scope=col>.estimate</th></tr>\n",
       "\t<tr><th scope=col>&lt;chr&gt;</th><th scope=col>&lt;chr&gt;</th><th scope=col>&lt;dbl&gt;</th></tr>\n",
       "</thead>\n",
       "<tbody>\n",
       "\t<tr><td>accuracy</td><td>binary</td><td>0.992</td></tr>\n",
       "</tbody>\n",
       "</table>\n"
      ],
      "text/latex": [
       "A tibble: 1 × 3\n",
       "\\begin{tabular}{lll}\n",
       " .metric & .estimator & .estimate\\\\\n",
       " <chr> & <chr> & <dbl>\\\\\n",
       "\\hline\n",
       "\t accuracy & binary & 0.992\\\\\n",
       "\\end{tabular}\n"
      ],
      "text/markdown": [
       "\n",
       "A tibble: 1 × 3\n",
       "\n",
       "| .metric &lt;chr&gt; | .estimator &lt;chr&gt; | .estimate &lt;dbl&gt; |\n",
       "|---|---|---|\n",
       "| accuracy | binary | 0.992 |\n",
       "\n"
      ],
      "text/plain": [
<<<<<<< HEAD
       "          Truth\n",
       "Prediction    0    1\n",
       "         0 4041   63\n",
       "         1   43  327"
=======
       "  .metric  .estimator .estimate\n",
       "1 accuracy binary     0.992    "
>>>>>>> edabcd9e4b8c9dc06fe8b23f971af0559896803a
      ]
     },
     "metadata": {},
     "output_type": "display_data"
    }
   ],
   "source": [
    "## Graph 2\n",
    "knn_spec2 <- nearest_neighbor(weight_func = 'rectangular', neighbors = k2) %>%\n",
    "                set_engine('kknn') %>%\n",
    "                set_mode('classification')\n",
    "acc_recipe2 <- recipe(class ~ mean_ip + excess_ip, data = pulsar_train) %>%\n",
    "                step_center(all_predictors()) %>%\n",
    "                step_scale(all_predictors())\n",
    "acc_fit2 <- workflow() %>%\n",
    "      add_recipe(acc_recipe2) %>%\n",
    "      add_model(knn_spec2) %>%\n",
    "      fit(data = pulsar_train)\n",
    "pulsar_predict2 <- predict(acc_fit2, pulsar_test) %>%\n",
    "                    bind_cols(pulsar_test) %>%\n",
    "                    metrics(truth = class, estimate = .pred_class) %>%\n",
    "                    filter(.metric == 'accuracy')\n",
    "pulsar_predict2"
   ]
  },
  {
   "cell_type": "code",
   "execution_count": 38,
   "metadata": {},
   "outputs": [
    {
     "data": {
      "text/html": [
       "<table>\n",
       "<caption>A tibble: 1 × 3</caption>\n",
       "<thead>\n",
       "\t<tr><th scope=col>.metric</th><th scope=col>.estimator</th><th scope=col>.estimate</th></tr>\n",
       "\t<tr><th scope=col>&lt;chr&gt;</th><th scope=col>&lt;chr&gt;</th><th scope=col>&lt;dbl&gt;</th></tr>\n",
       "</thead>\n",
       "<tbody>\n",
       "\t<tr><td>accuracy</td><td>binary</td><td>0.984</td></tr>\n",
       "</tbody>\n",
       "</table>\n"
      ],
      "text/latex": [
       "A tibble: 1 × 3\n",
       "\\begin{tabular}{lll}\n",
       " .metric & .estimator & .estimate\\\\\n",
       " <chr> & <chr> & <dbl>\\\\\n",
       "\\hline\n",
       "\t accuracy & binary & 0.984\\\\\n",
       "\\end{tabular}\n"
      ],
      "text/markdown": [
       "\n",
       "A tibble: 1 × 3\n",
       "\n",
       "| .metric &lt;chr&gt; | .estimator &lt;chr&gt; | .estimate &lt;dbl&gt; |\n",
       "|---|---|---|\n",
       "| accuracy | binary | 0.984 |\n",
       "\n"
      ],
      "text/plain": [
       "  .metric  .estimator .estimate\n",
       "1 accuracy binary     0.984    "
      ]
     },
     "metadata": {},
     "output_type": "display_data"
    }
   ],
   "source": [
    "## Graph 3\n",
    "\n",
    "knn_spec3 <- nearest_neighbor(weight_func = 'rectangular', neighbors = k3) %>%\n",
    "                set_engine('kknn') %>%\n",
    "                set_mode('classification')\n",
    "acc_recipe3 <- recipe(class ~ mean_ip + skewness_ip, data = pulsar_train) %>%\n",
    "                step_center(all_predictors()) %>%\n",
    "                step_scale(all_predictors())\n",
    "acc_fit3 <- workflow() %>%\n",
    "      add_recipe(acc_recipe3) %>%\n",
    "      add_model(knn_spec3) %>%\n",
    "      fit(data = pulsar_train)\n",
    "pulsar_predict3 <- predict(acc_fit3, pulsar_test) %>%\n",
    "                    bind_cols(pulsar_test) %>%\n",
    "                    metrics(truth = class, estimate = .pred_class) %>%\n",
    "                    filter(.metric == 'accuracy')\n",
    "pulsar_predict3"
   ]
  },
  {
   "cell_type": "code",
   "execution_count": 39,
   "metadata": {},
   "outputs": [
    {
     "data": {
      "text/html": [
       "<table>\n",
       "<caption>A tibble: 1 × 3</caption>\n",
       "<thead>\n",
       "\t<tr><th scope=col>.metric</th><th scope=col>.estimator</th><th scope=col>.estimate</th></tr>\n",
       "\t<tr><th scope=col>&lt;chr&gt;</th><th scope=col>&lt;chr&gt;</th><th scope=col>&lt;dbl&gt;</th></tr>\n",
       "</thead>\n",
       "<tbody>\n",
       "\t<tr><td>accuracy</td><td>binary</td><td>0.92</td></tr>\n",
       "</tbody>\n",
       "</table>\n"
      ],
      "text/latex": [
       "A tibble: 1 × 3\n",
       "\\begin{tabular}{lll}\n",
       " .metric & .estimator & .estimate\\\\\n",
       " <chr> & <chr> & <dbl>\\\\\n",
       "\\hline\n",
       "\t accuracy & binary & 0.92\\\\\n",
       "\\end{tabular}\n"
      ],
      "text/markdown": [
       "\n",
       "A tibble: 1 × 3\n",
       "\n",
       "| .metric &lt;chr&gt; | .estimator &lt;chr&gt; | .estimate &lt;dbl&gt; |\n",
       "|---|---|---|\n",
       "| accuracy | binary | 0.92 |\n",
       "\n"
      ],
      "text/plain": [
       "  .metric  .estimator .estimate\n",
       "1 accuracy binary     0.92     "
      ]
     },
     "metadata": {},
     "output_type": "display_data"
    }
   ],
   "source": [
    "## Graph 4\n",
    "\n",
    "knn_spec4 <- nearest_neighbor(weight_func = 'rectangular', neighbors = k4) %>%\n",
    "                set_engine('kknn') %>%\n",
    "                set_mode('classification')\n",
    "acc_recipe4 <- recipe(class ~ mean_dm + dev_dm, data = pulsar_train) %>%\n",
    "                step_center(all_predictors()) %>%\n",
    "                step_scale(all_predictors())\n",
    "acc_fit4 <- workflow() %>%\n",
    "      add_recipe(acc_recipe4) %>%\n",
    "      add_model(knn_spec4) %>%\n",
    "      fit(data = pulsar_train)\n",
    "pulsar_predict4 <- predict(acc_fit4, pulsar_test) %>%\n",
    "                    bind_cols(pulsar_test) %>%\n",
    "                    metrics(truth = class, estimate = .pred_class) %>%\n",
    "                    filter(.metric == 'accuracy')\n",
    "pulsar_predict4"
   ]
  },
  {
   "cell_type": "code",
   "execution_count": 40,
   "metadata": {},
   "outputs": [
    {
     "data": {
      "text/html": [
       "<table>\n",
       "<caption>A tibble: 1 × 3</caption>\n",
       "<thead>\n",
       "\t<tr><th scope=col>.metric</th><th scope=col>.estimator</th><th scope=col>.estimate</th></tr>\n",
       "\t<tr><th scope=col>&lt;chr&gt;</th><th scope=col>&lt;chr&gt;</th><th scope=col>&lt;dbl&gt;</th></tr>\n",
       "</thead>\n",
       "<tbody>\n",
       "\t<tr><td>accuracy</td><td>binary</td><td>0.92</td></tr>\n",
       "</tbody>\n",
       "</table>\n"
      ],
      "text/latex": [
       "A tibble: 1 × 3\n",
       "\\begin{tabular}{lll}\n",
       " .metric & .estimator & .estimate\\\\\n",
       " <chr> & <chr> & <dbl>\\\\\n",
       "\\hline\n",
       "\t accuracy & binary & 0.92\\\\\n",
       "\\end{tabular}\n"
      ],
      "text/markdown": [
       "\n",
       "A tibble: 1 × 3\n",
       "\n",
       "| .metric &lt;chr&gt; | .estimator &lt;chr&gt; | .estimate &lt;dbl&gt; |\n",
       "|---|---|---|\n",
       "| accuracy | binary | 0.92 |\n",
       "\n"
      ],
      "text/plain": [
       "  .metric  .estimator .estimate\n",
       "1 accuracy binary     0.92     "
      ]
     },
     "metadata": {},
     "output_type": "display_data"
    }
   ],
   "source": [
    "## Graph 5\n",
    "\n",
    "knn_spec5 <- nearest_neighbor(weight_func = 'rectangular', neighbors = k5) %>%\n",
    "                set_engine('kknn') %>%\n",
    "                set_mode('classification')\n",
    "acc_recipe5 <- recipe(class ~ mean_dm + excess_dm, data = pulsar_train) %>%\n",
    "                step_center(all_predictors()) %>%\n",
    "                step_scale(all_predictors())\n",
    "acc_fit5 <- workflow() %>%\n",
    "      add_recipe(acc_recipe5) %>%\n",
    "      add_model(knn_spec5) %>%\n",
    "      fit(data = pulsar_train)\n",
    "pulsar_predict5 <- predict(acc_fit5, pulsar_test) %>%\n",
    "                    bind_cols(pulsar_test) %>%\n",
    "                    metrics(truth = class, estimate = .pred_class) %>%\n",
    "                    filter(.metric == 'accuracy')\n",
    "pulsar_predict5"
   ]
  },
  {
   "cell_type": "code",
   "execution_count": 41,
   "metadata": {},
   "outputs": [
    {
     "data": {
      "text/html": [
       "<table>\n",
       "<caption>A tibble: 1 × 3</caption>\n",
       "<thead>\n",
       "\t<tr><th scope=col>.metric</th><th scope=col>.estimator</th><th scope=col>.estimate</th></tr>\n",
       "\t<tr><th scope=col>&lt;chr&gt;</th><th scope=col>&lt;chr&gt;</th><th scope=col>&lt;dbl&gt;</th></tr>\n",
       "</thead>\n",
       "<tbody>\n",
       "\t<tr><td>accuracy</td><td>binary</td><td>0.912</td></tr>\n",
       "</tbody>\n",
       "</table>\n"
      ],
      "text/latex": [
       "A tibble: 1 × 3\n",
       "\\begin{tabular}{lll}\n",
       " .metric & .estimator & .estimate\\\\\n",
       " <chr> & <chr> & <dbl>\\\\\n",
       "\\hline\n",
       "\t accuracy & binary & 0.912\\\\\n",
       "\\end{tabular}\n"
      ],
      "text/markdown": [
       "\n",
       "A tibble: 1 × 3\n",
       "\n",
       "| .metric &lt;chr&gt; | .estimator &lt;chr&gt; | .estimate &lt;dbl&gt; |\n",
       "|---|---|---|\n",
       "| accuracy | binary | 0.912 |\n",
       "\n"
      ],
      "text/plain": [
       "  .metric  .estimator .estimate\n",
       "1 accuracy binary     0.912    "
      ]
     },
     "metadata": {},
     "output_type": "display_data"
    }
   ],
   "source": [
    "## Graph 6\n",
    "\n",
    "knn_spec6 <- nearest_neighbor(weight_func = 'rectangular', neighbors = k6) %>%\n",
    "                set_engine('kknn') %>%\n",
    "                set_mode('classification')\n",
    "acc_recipe6 <- recipe(class ~ mean_dm + skewness_dm, data = pulsar_train) %>%\n",
    "                step_center(all_predictors()) %>%\n",
    "                step_scale(all_predictors())\n",
    "acc_fit6 <- workflow() %>%\n",
    "      add_recipe(acc_recipe6) %>%\n",
    "      add_model(knn_spec6) %>%\n",
    "      fit(data = pulsar_train)\n",
    "pulsar_predict6 <- predict(acc_fit6, pulsar_test) %>%\n",
    "                    bind_cols(pulsar_test) %>%\n",
    "                    metrics(truth = class, estimate = .pred_class) %>%\n",
    "                    filter(.metric == 'accuracy')\n",
    "pulsar_predict6"
   ]
  },
  {
   "cell_type": "markdown",
   "metadata": {},
   "source": [
    "The best pair of variables appear to be Mean and Excess Kurtosis from the Integrated Profile"
   ]
  }
 ],
 "metadata": {
  "kernelspec": {
   "display_name": "R",
   "language": "R",
   "name": "ir"
  },
  "language_info": {
   "codemirror_mode": "r",
   "file_extension": ".r",
   "mimetype": "text/x-r-source",
   "name": "R",
   "pygments_lexer": "r",
   "version": "4.0.0"
  }
 },
 "nbformat": 4,
 "nbformat_minor": 4
}
