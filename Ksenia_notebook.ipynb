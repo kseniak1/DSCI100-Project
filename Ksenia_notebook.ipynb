{
 "cells": [
  {
   "cell_type": "code",
   "execution_count": 1,
   "metadata": {},
   "outputs": [
    {
     "name": "stderr",
     "output_type": "stream",
     "text": [
      "── \u001b[1mAttaching packages\u001b[22m ─────────────────────────────────────── tidyverse 1.3.0 ──\n",
      "\n",
      "\u001b[32m✔\u001b[39m \u001b[34mggplot2\u001b[39m 3.3.2     \u001b[32m✔\u001b[39m \u001b[34mpurrr  \u001b[39m 0.3.4\n",
      "\u001b[32m✔\u001b[39m \u001b[34mtibble \u001b[39m 3.0.3     \u001b[32m✔\u001b[39m \u001b[34mdplyr  \u001b[39m 1.0.2\n",
      "\u001b[32m✔\u001b[39m \u001b[34mtidyr  \u001b[39m 1.1.2     \u001b[32m✔\u001b[39m \u001b[34mstringr\u001b[39m 1.4.0\n",
      "\u001b[32m✔\u001b[39m \u001b[34mreadr  \u001b[39m 1.3.1     \u001b[32m✔\u001b[39m \u001b[34mforcats\u001b[39m 0.5.0\n",
      "\n",
      "Warning message:\n",
      "“package ‘ggplot2’ was built under R version 4.0.1”\n",
      "Warning message:\n",
      "“package ‘tibble’ was built under R version 4.0.2”\n",
      "Warning message:\n",
      "“package ‘tidyr’ was built under R version 4.0.2”\n",
      "Warning message:\n",
      "“package ‘dplyr’ was built under R version 4.0.2”\n",
      "── \u001b[1mConflicts\u001b[22m ────────────────────────────────────────── tidyverse_conflicts() ──\n",
      "\u001b[31m✖\u001b[39m \u001b[34mdplyr\u001b[39m::\u001b[32mfilter()\u001b[39m masks \u001b[34mstats\u001b[39m::filter()\n",
      "\u001b[31m✖\u001b[39m \u001b[34mdplyr\u001b[39m::\u001b[32mlag()\u001b[39m    masks \u001b[34mstats\u001b[39m::lag()\n",
      "\n",
      "Warning message:\n",
      "“package ‘tidymodels’ was built under R version 4.0.2”\n",
      "── \u001b[1mAttaching packages\u001b[22m ────────────────────────────────────── tidymodels 0.1.1 ──\n",
      "\n",
      "\u001b[32m✔\u001b[39m \u001b[34mbroom    \u001b[39m 0.7.0      \u001b[32m✔\u001b[39m \u001b[34mrecipes  \u001b[39m 0.1.13\n",
      "\u001b[32m✔\u001b[39m \u001b[34mdials    \u001b[39m 0.0.9      \u001b[32m✔\u001b[39m \u001b[34mrsample  \u001b[39m 0.0.7 \n",
      "\u001b[32m✔\u001b[39m \u001b[34minfer    \u001b[39m 0.5.4      \u001b[32m✔\u001b[39m \u001b[34mtune     \u001b[39m 0.1.1 \n",
      "\u001b[32m✔\u001b[39m \u001b[34mmodeldata\u001b[39m 0.0.2      \u001b[32m✔\u001b[39m \u001b[34mworkflows\u001b[39m 0.2.0 \n",
      "\u001b[32m✔\u001b[39m \u001b[34mparsnip  \u001b[39m 0.1.3      \u001b[32m✔\u001b[39m \u001b[34myardstick\u001b[39m 0.0.7 \n",
      "\n",
      "Warning message:\n",
      "“package ‘broom’ was built under R version 4.0.2”\n",
      "Warning message:\n",
      "“package ‘dials’ was built under R version 4.0.2”\n",
      "Warning message:\n",
      "“package ‘infer’ was built under R version 4.0.3”\n",
      "Warning message:\n",
      "“package ‘modeldata’ was built under R version 4.0.1”\n",
      "Warning message:\n",
      "“package ‘parsnip’ was built under R version 4.0.2”\n",
      "Warning message:\n",
      "“package ‘recipes’ was built under R version 4.0.1”\n",
      "Warning message:\n",
      "“package ‘tune’ was built under R version 4.0.2”\n",
      "Warning message:\n",
      "“package ‘workflows’ was built under R version 4.0.2”\n",
      "Warning message:\n",
      "“package ‘yardstick’ was built under R version 4.0.2”\n",
      "── \u001b[1mConflicts\u001b[22m ───────────────────────────────────────── tidymodels_conflicts() ──\n",
      "\u001b[31m✖\u001b[39m \u001b[34mscales\u001b[39m::\u001b[32mdiscard()\u001b[39m masks \u001b[34mpurrr\u001b[39m::discard()\n",
      "\u001b[31m✖\u001b[39m \u001b[34mdplyr\u001b[39m::\u001b[32mfilter()\u001b[39m   masks \u001b[34mstats\u001b[39m::filter()\n",
      "\u001b[31m✖\u001b[39m \u001b[34mrecipes\u001b[39m::\u001b[32mfixed()\u001b[39m  masks \u001b[34mstringr\u001b[39m::fixed()\n",
      "\u001b[31m✖\u001b[39m \u001b[34mdplyr\u001b[39m::\u001b[32mlag()\u001b[39m      masks \u001b[34mstats\u001b[39m::lag()\n",
      "\u001b[31m✖\u001b[39m \u001b[34myardstick\u001b[39m::\u001b[32mspec()\u001b[39m masks \u001b[34mreadr\u001b[39m::spec()\n",
      "\u001b[31m✖\u001b[39m \u001b[34mrecipes\u001b[39m::\u001b[32mstep()\u001b[39m   masks \u001b[34mstats\u001b[39m::step()\n",
      "\n"
     ]
    }
   ],
   "source": [
    "library(tidyverse)\n",
    "library(repr)\n",
    "library(RColorBrewer)\n",
    "library(tidymodels)"
   ]
  },
  {
   "cell_type": "code",
   "execution_count": 7,
   "metadata": {},
   "outputs": [
    {
     "name": "stderr",
     "output_type": "stream",
     "text": [
      "Parsed with column specification:\n",
      "cols(\n",
      "  X1 = \u001b[32mcol_double()\u001b[39m,\n",
      "  X2 = \u001b[32mcol_double()\u001b[39m,\n",
      "  X3 = \u001b[32mcol_double()\u001b[39m,\n",
      "  X4 = \u001b[32mcol_double()\u001b[39m,\n",
      "  X5 = \u001b[32mcol_double()\u001b[39m,\n",
      "  X6 = \u001b[32mcol_double()\u001b[39m,\n",
      "  X7 = \u001b[32mcol_double()\u001b[39m,\n",
      "  X8 = \u001b[32mcol_double()\u001b[39m,\n",
      "  X9 = \u001b[32mcol_double()\u001b[39m\n",
      ")\n",
      "\n"
     ]
    },
    {
     "data": {
      "text/html": [
       "<table>\n",
       "<caption>A grouped_df: 6 × 9</caption>\n",
       "<thead>\n",
       "\t<tr><th scope=col>mean_ip</th><th scope=col>dev_ip</th><th scope=col>excess_ip</th><th scope=col>skewness_ip</th><th scope=col>mean_dm</th><th scope=col>dev_dm</th><th scope=col>excess_dm</th><th scope=col>skewness_dm</th><th scope=col>class</th></tr>\n",
       "\t<tr><th scope=col>&lt;dbl&gt;</th><th scope=col>&lt;dbl&gt;</th><th scope=col>&lt;dbl&gt;</th><th scope=col>&lt;dbl&gt;</th><th scope=col>&lt;dbl&gt;</th><th scope=col>&lt;dbl&gt;</th><th scope=col>&lt;dbl&gt;</th><th scope=col>&lt;dbl&gt;</th><th scope=col>&lt;fct&gt;</th></tr>\n",
       "</thead>\n",
       "<tbody>\n",
       "\t<tr><td>115.2344</td><td>46.13541</td><td> 0.439600186</td><td> 0.5411910</td><td>2.420569</td><td>14.28331</td><td> 8.962998</td><td>108.34897</td><td>0</td></tr>\n",
       "\t<tr><td>125.6484</td><td>55.50557</td><td>-0.017358015</td><td>-0.6415455</td><td>2.060201</td><td>15.11737</td><td>10.893795</td><td>141.26112</td><td>0</td></tr>\n",
       "\t<tr><td>123.6875</td><td>49.31797</td><td>-0.002264451</td><td> 0.2187081</td><td>6.730769</td><td>31.65474</td><td> 5.074507</td><td> 26.22959</td><td>0</td></tr>\n",
       "\t<tr><td>113.0078</td><td>43.74152</td><td> 0.491563810</td><td> 0.4636881</td><td>4.000836</td><td>20.10996</td><td> 6.990697</td><td> 58.85479</td><td>0</td></tr>\n",
       "\t<tr><td>129.4062</td><td>53.41515</td><td>-0.072911778</td><td>-0.3498833</td><td>2.721572</td><td>20.16102</td><td> 8.202760</td><td> 71.51378</td><td>0</td></tr>\n",
       "\t<tr><td>127.2891</td><td>49.84604</td><td> 0.024368056</td><td>-0.3152955</td><td>3.773411</td><td>18.70448</td><td> 6.539690</td><td> 52.38843</td><td>0</td></tr>\n",
       "</tbody>\n",
       "</table>\n"
      ],
      "text/latex": [
       "A grouped\\_df: 6 × 9\n",
       "\\begin{tabular}{lllllllll}\n",
       " mean\\_ip & dev\\_ip & excess\\_ip & skewness\\_ip & mean\\_dm & dev\\_dm & excess\\_dm & skewness\\_dm & class\\\\\n",
       " <dbl> & <dbl> & <dbl> & <dbl> & <dbl> & <dbl> & <dbl> & <dbl> & <fct>\\\\\n",
       "\\hline\n",
       "\t 115.2344 & 46.13541 &  0.439600186 &  0.5411910 & 2.420569 & 14.28331 &  8.962998 & 108.34897 & 0\\\\\n",
       "\t 125.6484 & 55.50557 & -0.017358015 & -0.6415455 & 2.060201 & 15.11737 & 10.893795 & 141.26112 & 0\\\\\n",
       "\t 123.6875 & 49.31797 & -0.002264451 &  0.2187081 & 6.730769 & 31.65474 &  5.074507 &  26.22959 & 0\\\\\n",
       "\t 113.0078 & 43.74152 &  0.491563810 &  0.4636881 & 4.000836 & 20.10996 &  6.990697 &  58.85479 & 0\\\\\n",
       "\t 129.4062 & 53.41515 & -0.072911778 & -0.3498833 & 2.721572 & 20.16102 &  8.202760 &  71.51378 & 0\\\\\n",
       "\t 127.2891 & 49.84604 &  0.024368056 & -0.3152955 & 3.773411 & 18.70448 &  6.539690 &  52.38843 & 0\\\\\n",
       "\\end{tabular}\n"
      ],
      "text/markdown": [
       "\n",
       "A grouped_df: 6 × 9\n",
       "\n",
       "| mean_ip &lt;dbl&gt; | dev_ip &lt;dbl&gt; | excess_ip &lt;dbl&gt; | skewness_ip &lt;dbl&gt; | mean_dm &lt;dbl&gt; | dev_dm &lt;dbl&gt; | excess_dm &lt;dbl&gt; | skewness_dm &lt;dbl&gt; | class &lt;fct&gt; |\n",
       "|---|---|---|---|---|---|---|---|---|\n",
       "| 115.2344 | 46.13541 |  0.439600186 |  0.5411910 | 2.420569 | 14.28331 |  8.962998 | 108.34897 | 0 |\n",
       "| 125.6484 | 55.50557 | -0.017358015 | -0.6415455 | 2.060201 | 15.11737 | 10.893795 | 141.26112 | 0 |\n",
       "| 123.6875 | 49.31797 | -0.002264451 |  0.2187081 | 6.730769 | 31.65474 |  5.074507 |  26.22959 | 0 |\n",
       "| 113.0078 | 43.74152 |  0.491563810 |  0.4636881 | 4.000836 | 20.10996 |  6.990697 |  58.85479 | 0 |\n",
       "| 129.4062 | 53.41515 | -0.072911778 | -0.3498833 | 2.721572 | 20.16102 |  8.202760 |  71.51378 | 0 |\n",
       "| 127.2891 | 49.84604 |  0.024368056 | -0.3152955 | 3.773411 | 18.70448 |  6.539690 |  52.38843 | 0 |\n",
       "\n"
      ],
      "text/plain": [
       "  mean_ip  dev_ip   excess_ip    skewness_ip mean_dm  dev_dm   excess_dm\n",
       "1 115.2344 46.13541  0.439600186  0.5411910  2.420569 14.28331  8.962998\n",
       "2 125.6484 55.50557 -0.017358015 -0.6415455  2.060201 15.11737 10.893795\n",
       "3 123.6875 49.31797 -0.002264451  0.2187081  6.730769 31.65474  5.074507\n",
       "4 113.0078 43.74152  0.491563810  0.4636881  4.000836 20.10996  6.990697\n",
       "5 129.4062 53.41515 -0.072911778 -0.3498833  2.721572 20.16102  8.202760\n",
       "6 127.2891 49.84604  0.024368056 -0.3152955  3.773411 18.70448  6.539690\n",
       "  skewness_dm class\n",
       "1 108.34897   0    \n",
       "2 141.26112   0    \n",
       "3  26.22959   0    \n",
       "4  58.85479   0    \n",
       "5  71.51378   0    \n",
       "6  52.38843   0    "
      ]
     },
     "metadata": {},
     "output_type": "display_data"
    }
   ],
   "source": [
    "set.seed(19)\n",
    "## Load data\n",
    "pulsar_data <- read_csv(\"https://github.com/kseniak1/DSCI100-Group-Project/raw/main/HTRU_2%5B1%5D.csv\", col_names = FALSE) %>%\n",
    "                ## Rename Columns\n",
    "                rename(mean_ip = X1,\n",
    "                      dev_ip = X2,\n",
    "                      excess_ip = X3,\n",
    "                      skewness_ip = X4,\n",
    "                      mean_dm = X5,\n",
    "                      dev_dm = X6,\n",
    "                      excess_dm = X7,\n",
    "                      skewness_dm = X8,\n",
    "                      class = X9) %>%\n",
    "                ## Class as a factor\n",
    "                mutate(class = as.factor(class)) %>%\n",
    "                ## Select a smaller sample, adjusted for equal parts of each class\n",
    "                group_by(class) %>%\n",
    "                sample_n(size = 250)                \n",
    "head(pulsar_data)"
   ]
  },
  {
   "cell_type": "code",
   "execution_count": 10,
   "metadata": {},
   "outputs": [],
   "source": [
    "set.seed(19)\n",
    "## Split data into training and testing sets\n",
    "pulsar_split <- initial_split(pulsar_data, prop = 0.75, strata = class)\n",
    "pulsar_train <- training(pulsar_split)\n",
    "pulsar_test <- testing(pulsar_split)"
   ]
  },
  {
   "cell_type": "code",
   "execution_count": 11,
   "metadata": {},
   "outputs": [],
   "source": [
    "set.seed(19)\n",
    "## Completing a 5-fold cross-validation\n",
    "pulsar_vfold <- vfold_cv(pulsar_train, v = 5, strata = class)"
   ]
  },
  {
   "cell_type": "code",
   "execution_count": 22,
   "metadata": {},
   "outputs": [],
   "source": [
    "## Base specification, recipe  and workflow (skeleton for all analysis combos)\n",
    "\n",
    "knn_tune <- nearest_neighbor(weight_func = 'rectangular', neighbors = tune()) %>%\n",
    "            set_engine('kknn') %>%\n",
    "            set_mode('classification')\n",
    "\n",
    "ks <- tibble(neighbors = seq(from = 1, to = 10, by = 1))\n",
    "### Uncomment below when adding predictors, rename according to graph number\n",
    "# pulsar_recipe <- recipe(class ~ mean_ip/dm + predictor_2, data = pulsar_train) %>%\n",
    "#                     step_scale(all_predictors()) +\n",
    "#                     step_center(all_predictors())\n",
    "\n",
    "# knn_results <- workflow() %>%\n",
    "#       add_recipe(pulsar_recipe) %>%\n",
    "#       add_model(knn_tune) %>%\n",
    "#       tune_grid(resamples = pulsar_vfold, grid = ks) %>%\n",
    "#       collect_metrics() %>% \n",
    "#       filter(.metric == \"accuracy\")\n",
    "# knn_results\n",
    "\n",
    "# knn_plot <- ggplot(knn_results, aes(x = neighbors, y = mean))+\n",
    "#       geom_point() +\n",
    "#       geom_line() +\n",
    "#       labs(x = \"Neighbors\", y = \"Accuracy Estimate\")\n",
    "# knn_plot"
   ]
  },
  {
   "cell_type": "markdown",
   "metadata": {},
   "source": [
    "Six different pairings of variables will be tested:\n",
    "\n",
    "Integrated Profile:\n",
    "1. Mean and Standard Deviation\n",
    "2. Mean and Excess Kurtosis\n",
    "3. Mean and Skewness\n",
    "\n",
    "DM-SNR Curve:\n",
    "\n",
    "4. Mean and Standard Deviation\n",
    "5. Mean and Excess Kurtosis\n",
    "6. Mean and Skewness"
   ]
  },
  {
   "cell_type": "code",
   "execution_count": 26,
   "metadata": {},
   "outputs": [
    {
     "data": {
      "text/html": [
       "<table>\n",
       "<caption>A tibble: 10 × 7</caption>\n",
       "<thead>\n",
       "\t<tr><th scope=col>neighbors</th><th scope=col>.metric</th><th scope=col>.estimator</th><th scope=col>mean</th><th scope=col>n</th><th scope=col>std_err</th><th scope=col>.config</th></tr>\n",
       "\t<tr><th scope=col>&lt;dbl&gt;</th><th scope=col>&lt;chr&gt;</th><th scope=col>&lt;chr&gt;</th><th scope=col>&lt;dbl&gt;</th><th scope=col>&lt;int&gt;</th><th scope=col>&lt;dbl&gt;</th><th scope=col>&lt;chr&gt;</th></tr>\n",
       "</thead>\n",
       "<tbody>\n",
       "\t<tr><td> 1</td><td>accuracy</td><td>binary</td><td>0.8082504</td><td>5</td><td>0.019135925</td><td>Model01</td></tr>\n",
       "\t<tr><td> 2</td><td>accuracy</td><td>binary</td><td>0.8082504</td><td>5</td><td>0.019135925</td><td>Model02</td></tr>\n",
       "\t<tr><td> 3</td><td>accuracy</td><td>binary</td><td>0.8644381</td><td>5</td><td>0.009491358</td><td>Model03</td></tr>\n",
       "\t<tr><td> 4</td><td>accuracy</td><td>binary</td><td>0.8644381</td><td>5</td><td>0.009491358</td><td>Model04</td></tr>\n",
       "\t<tr><td> 5</td><td>accuracy</td><td>binary</td><td>0.8831437</td><td>5</td><td>0.010209790</td><td>Model05</td></tr>\n",
       "\t<tr><td> 6</td><td>accuracy</td><td>binary</td><td>0.8831437</td><td>5</td><td>0.010209790</td><td>Model06</td></tr>\n",
       "\t<tr><td> 7</td><td>accuracy</td><td>binary</td><td>0.8832148</td><td>5</td><td>0.012301326</td><td>Model07</td></tr>\n",
       "\t<tr><td> 8</td><td>accuracy</td><td>binary</td><td>0.8832148</td><td>5</td><td>0.012301326</td><td>Model08</td></tr>\n",
       "\t<tr><td> 9</td><td>accuracy</td><td>binary</td><td>0.8831437</td><td>5</td><td>0.009221161</td><td>Model09</td></tr>\n",
       "\t<tr><td>10</td><td>accuracy</td><td>binary</td><td>0.8831437</td><td>5</td><td>0.009221161</td><td>Model10</td></tr>\n",
       "</tbody>\n",
       "</table>\n"
      ],
      "text/latex": [
       "A tibble: 10 × 7\n",
       "\\begin{tabular}{lllllll}\n",
       " neighbors & .metric & .estimator & mean & n & std\\_err & .config\\\\\n",
       " <dbl> & <chr> & <chr> & <dbl> & <int> & <dbl> & <chr>\\\\\n",
       "\\hline\n",
       "\t  1 & accuracy & binary & 0.8082504 & 5 & 0.019135925 & Model01\\\\\n",
       "\t  2 & accuracy & binary & 0.8082504 & 5 & 0.019135925 & Model02\\\\\n",
       "\t  3 & accuracy & binary & 0.8644381 & 5 & 0.009491358 & Model03\\\\\n",
       "\t  4 & accuracy & binary & 0.8644381 & 5 & 0.009491358 & Model04\\\\\n",
       "\t  5 & accuracy & binary & 0.8831437 & 5 & 0.010209790 & Model05\\\\\n",
       "\t  6 & accuracy & binary & 0.8831437 & 5 & 0.010209790 & Model06\\\\\n",
       "\t  7 & accuracy & binary & 0.8832148 & 5 & 0.012301326 & Model07\\\\\n",
       "\t  8 & accuracy & binary & 0.8832148 & 5 & 0.012301326 & Model08\\\\\n",
       "\t  9 & accuracy & binary & 0.8831437 & 5 & 0.009221161 & Model09\\\\\n",
       "\t 10 & accuracy & binary & 0.8831437 & 5 & 0.009221161 & Model10\\\\\n",
       "\\end{tabular}\n"
      ],
      "text/markdown": [
       "\n",
       "A tibble: 10 × 7\n",
       "\n",
       "| neighbors &lt;dbl&gt; | .metric &lt;chr&gt; | .estimator &lt;chr&gt; | mean &lt;dbl&gt; | n &lt;int&gt; | std_err &lt;dbl&gt; | .config &lt;chr&gt; |\n",
       "|---|---|---|---|---|---|---|\n",
       "|  1 | accuracy | binary | 0.8082504 | 5 | 0.019135925 | Model01 |\n",
       "|  2 | accuracy | binary | 0.8082504 | 5 | 0.019135925 | Model02 |\n",
       "|  3 | accuracy | binary | 0.8644381 | 5 | 0.009491358 | Model03 |\n",
       "|  4 | accuracy | binary | 0.8644381 | 5 | 0.009491358 | Model04 |\n",
       "|  5 | accuracy | binary | 0.8831437 | 5 | 0.010209790 | Model05 |\n",
       "|  6 | accuracy | binary | 0.8831437 | 5 | 0.010209790 | Model06 |\n",
       "|  7 | accuracy | binary | 0.8832148 | 5 | 0.012301326 | Model07 |\n",
       "|  8 | accuracy | binary | 0.8832148 | 5 | 0.012301326 | Model08 |\n",
       "|  9 | accuracy | binary | 0.8831437 | 5 | 0.009221161 | Model09 |\n",
       "| 10 | accuracy | binary | 0.8831437 | 5 | 0.009221161 | Model10 |\n",
       "\n"
      ],
      "text/plain": [
       "   neighbors .metric  .estimator mean      n std_err     .config\n",
       "1   1        accuracy binary     0.8082504 5 0.019135925 Model01\n",
       "2   2        accuracy binary     0.8082504 5 0.019135925 Model02\n",
       "3   3        accuracy binary     0.8644381 5 0.009491358 Model03\n",
       "4   4        accuracy binary     0.8644381 5 0.009491358 Model04\n",
       "5   5        accuracy binary     0.8831437 5 0.010209790 Model05\n",
       "6   6        accuracy binary     0.8831437 5 0.010209790 Model06\n",
       "7   7        accuracy binary     0.8832148 5 0.012301326 Model07\n",
       "8   8        accuracy binary     0.8832148 5 0.012301326 Model08\n",
       "9   9        accuracy binary     0.8831437 5 0.009221161 Model09\n",
       "10 10        accuracy binary     0.8831437 5 0.009221161 Model10"
      ]
     },
     "metadata": {},
     "output_type": "display_data"
    },
    {
     "data": {
      "image/png": "[encoded data removed]",
      "text/plain": [
       "plot without title"
      ]
     },
     "metadata": {
      "image/png": {
       "height": 420,
       "width": 420
      }
     },
     "output_type": "display_data"
    }
   ],
   "source": [
    "## Pairing 1\n",
    "pulsar_recipe1 <- recipe(class ~ mean_ip + dev_ip, data = pulsar_train) %>%\n",
    "                    step_scale(all_predictors()) %>%\n",
    "                    step_center(all_predictors())\n",
    "\n",
    "knn_results1 <- workflow() %>%\n",
    "      add_recipe(pulsar_recipe1) %>%\n",
    "      add_model(knn_tune) %>%\n",
    "      tune_grid(resamples = pulsar_vfold, grid = ks) %>%\n",
    "      collect_metrics() %>% \n",
    "      filter(.metric == \"accuracy\")\n",
    "knn_results1\n",
    "\n",
    "knn_plot1 <- ggplot(knn_results1, aes(x = neighbors, y = mean))+\n",
    "      geom_point() +\n",
    "      geom_line() +\n",
    "      labs(x = \"Neighbors\", y = \"Accuracy Estimate\") +\n",
    "      ggtitle(\"Integrated Profile Mean and Standard Deviation accuracies\")\n",
    "knn_plot1"
   ]
  },
  {
   "cell_type": "code",
   "execution_count": null,
   "metadata": {},
   "outputs": [],
   "source": []
  },
  {
   "cell_type": "code",
   "execution_count": null,
   "metadata": {},
   "outputs": [],
   "source": []
  }
 ],
 "metadata": {
  "kernelspec": {
   "display_name": "R",
   "language": "R",
   "name": "ir"
  },
  "language_info": {
   "codemirror_mode": "r",
   "file_extension": ".r",
   "mimetype": "text/x-r-source",
   "name": "R",
   "pygments_lexer": "r",
   "version": "4.0.0"
  }
 },
 "nbformat": 4,
 "nbformat_minor": 4
}
