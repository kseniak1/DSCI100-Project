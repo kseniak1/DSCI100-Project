{
 "cells": [
  {
   "cell_type": "markdown",
   "metadata": {},
   "source": [
    "**DSCI100 Final Project Report**\n",
    "\n",
    "Group 19 (Aneeta, Avishka, Hannah, Ksenia)"
   ]
  },
  {
   "cell_type": "markdown",
   "metadata": {},
   "source": [
    "**Introduction**\n",
    "\n",
    "In this project, analysis on data from the High Time Resolution Universe Pulsar Survey  will be done to gain a better understanding of how to better classify Neutron stars (also known as pulsars).\n",
    "\n",
    "Studying pulsars allows researchers to explore “space-time, the interstellar medium, and states of matter.” However, radio signals received to identify pulsars are obstructed with radio frequency interference (RFI) and noise. As a result, there is demand for advanced learning tools that will be able to automatically label pulsar candidates.\n",
    "\n",
    "If the pulse’s signal is integrated with respect to its rotational period, a unique integrated profile can be created for the pulse. A DM-SNR curve plots the spectral supernova remnants (SNR) as a function of the trail dispersion measure (DM).\n",
    "\n",
    "The question that this project will answer is “Can an unclassified candidate be classified as a pulsar based on observed characteristics?\" The characteristics that will be used in this classification, consisting of information from both the integrated profile and the DM-SNR curve, will be determined based on which one—integrated profile or DM-SNR curve provides a model with the highest prediction accuracy.\n",
    "\n",
    "The dataset that is used for this project provides information on 17,898 candidates—16,259 are examples of RFI/noise, and 1,639 are examples of real pulsars. 8 variables corresponding to data about the integrated profile and DM-SNR curve of the candidates, will be further analyzed in the project to answer the research question.\n"
   ]
  },
  {
   "cell_type": "markdown",
   "metadata": {},
   "source": [
    "**Methods & Results**"
   ]
  },
  {
   "cell_type": "code",
   "execution_count": null,
   "metadata": {},
   "outputs": [],
   "source": []
  },
  {
   "cell_type": "markdown",
   "metadata": {},
   "source": [
    "**Discussions**\n",
    "\n",
    "As a result of graphing to determine best accuracy, it is determined that mean and excess kurtosis of integrated profile has the highest average, with a k-value of 3. In correspondence to the hypothesis, integrated profile data will be a better predictor than DM-SNR to classify candidates as pulsar or not. Since these parameters gave the highest accuracy \n",
    "\n",
    "\n",
    " It is important to note that the accuracy values are higher than what is typically expected from such an analysis. We believe this is the case as we made the conscious choice to leave our data unbalanced in terms of class, as we were encountering abnormal elbow plots when we were balancing our data with various methods.\n",
    "\n",
    "\n",
    "As we predicted, integrated profile was an overall more accurate predictor of class than DM-SNR curve. We did not make any predictions about which specific variables would be more reliable. \n",
    "It is visually clear that our random point would be assigned as a pulsar star, due to its location on the graph, and the neighboring points around it.\n",
    "These findings regarding the most reliable predictors, as well as our prediction of a random set of values can be used to make quick and simple predictions regarding data points that fall clearly within the pulsar or non-pulsar areas of the graph. By only using two variables to predict, predictions can be made very quickly.\n",
    "This finding can also be further expanded on by exploring if including a third predictor would produce more accurate results, especially in the range of our data where both pulsars and non-pulsars currently fall, which may currently be inaccurately predicted.\n"
   ]
  },
  {
   "cell_type": "markdown",
   "metadata": {},
   "source": [
    "**References**\n",
    "\n",
    "R. J. Lyon, B. W. Stappers, S. Cooper, J. M. Brooke, J. D. Knowles, Fifty Years of Pulsar Candidate Selection: From simple filters to a new principled real-time classification approach, Monthly Notices of the Royal Astronomical Society 459 (1), 1104-1123, DOI: 10.1093/mnras/stw656\t\n",
    "https://archive.ics.uci.edu/ml/datasets/HTRU2 \n",
    "\n",
    "M. J. Keith et al., 'The High Time Resolution Universe Pulsar Survey - I. System Configuration and Initial Discoveries',2010, Monthly Notices of the Royal Astronomical Society, vol. 409, pp. 619-627. DOI: 10.1111/j.1365-2966.2010.17325.x\n",
    "\n",
    "D. R. Lorimer and M. Kramer, 'Handbook of Pulsar Astronomy', Cambridge University Press, 2005.\n",
    "\n"
   ]
  }
 ],
 "metadata": {
  "kernelspec": {
   "display_name": "R",
   "language": "R",
   "name": "ir"
  },
  "language_info": {
   "codemirror_mode": "r",
   "file_extension": ".r",
   "mimetype": "text/x-r-source",
   "name": "R",
   "pygments_lexer": "r",
   "version": "4.0.0"
  }
 },
 "nbformat": 4,
 "nbformat_minor": 4
}
