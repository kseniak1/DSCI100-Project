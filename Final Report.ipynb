{
 "cells": [
  {
   "cell_type": "markdown",
   "metadata": {},
   "source": [
    "**DSCI100 Final Project Report**\n",
    "\n",
    "Group 19 (Aneeta, Avishka, Hannah, Ksenia)"
   ]
  },
  {
   "cell_type": "markdown",
   "metadata": {},
   "source": [
    "**Introduction**\n",
    "\n",
    "In this project, analysis on data from the High Time Resolution Universe Pulsar Survey (Keith et al., 2010) will be done to gain a better understanding of how to better classify Neutron stars (also known as pulsars).\n",
    "\n",
    "Studying pulsars allows researchers to explore “space-time, the interstellar medium, and states of matter.” However, radio signals received to identify pulsars are obstructed with radio frequency interference (RFI) and noise. As a result, there is demand for advanced learning tools that will be able to automatically label pulsar candidates.\n",
    "\n",
    "If the pulse’s signal is integrated with respect to its rotational period, a unique integrated profile can be created for the pulse. A DM-SNR curve plots the spectral supernova remnants (SNR) as a function of the trail dispersion measure (DM).\n",
    "\n",
    "The question that this project will answer is “Which variable, between integrated profile and DM-SNR, is a better predictor for class?”\n",
    "\n",
    "The dataset that is used for this project provides information on 17,898 candidates—16,259 are examples of RFI/noise, and 1,639 are examples of real pulsars. 8 variables corresponding to data about the integrated profile and DM-SNR curve of the candidates, will be further analyzed in the project to answer the research question.\n"
   ]
  },
  {
   "cell_type": "markdown",
   "metadata": {},
   "source": [
    "**Methods & Results**"
   ]
  },
  {
   "cell_type": "code",
   "execution_count": null,
   "metadata": {},
   "outputs": [],
   "source": []
  },
  {
   "cell_type": "markdown",
   "metadata": {},
   "source": [
    "**References**\n",
    "\n",
    "HTRU2 Data Set. UCI Machine Learning Repository. (n.d.). Retrieved from https://archive.ics.uci.edu/ml/datasets/HTRU2 \n",
    "\n",
    "Keith, M., Jameson, A., Van Straten, W., Bailes, M., Johnston, S., Kramer, M., Possenti, A., Bates, S., Bhat, N., Burgay, M., Burke-Spolaor, S., D'Amico, N., Levin, L., McMahon, P., Milia, S., &amp; Stappers, B. (2010). The high time resolution universe pulsar survey - I. system configuration and initial discoveries. Monthly Notices of the Royal Astronomical Society, 409(2), 619–627. https://doi.org/10.1111/j.1365-2966.2010.17325.x \n",
    "\n",
    "Lyon, R., Stappers, B., Cooper, S., Brooke, J. M., & Knowles, J. D. (2016). Fifty Years of Pulsar Candidate Selection: From simple filters to a new principled real-time classification approach. Monthly Notices of the Royal Astronomical Society, 459(1), 1104-1123. https://doi.org/10.1093/mnras/stw656\n"
   ]
  }
 ],
 "metadata": {
  "kernelspec": {
   "display_name": "R",
   "language": "R",
   "name": "ir"
  },
  "language_info": {
   "codemirror_mode": "r",
   "file_extension": ".r",
   "mimetype": "text/x-r-source",
   "name": "R",
   "pygments_lexer": "r",
   "version": "4.0.0"
  }
 },
 "nbformat": 4,
 "nbformat_minor": 4
}
