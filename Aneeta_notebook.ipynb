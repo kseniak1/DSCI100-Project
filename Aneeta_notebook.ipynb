{
 "cells": [
  {
   "cell_type": "markdown",
   "metadata": {},
   "source": [
    "**Introduction**:\n",
    "\n",
    "In this project, analysis on data from the High Time Resolution Universe Pulsar Survey will be done to gain a better understanding of how to better label Neutron stars (also known as pulsars).\n",
    "\n",
    "Studying pulsars allows researchers to explore “space-time, the interstellar medium, and states of matter.” However, radio signals received to identify pulsars are obstructed with radio frequency interference (RFI) and noise. As a result, there is demand for advanced learning tools that will be able to automatically label pulsar candidates.\n",
    "\n",
    "If the pulse’s signal is integrated with respect to its rotational period, a unique integrated profile can be created for the pulse. A DM-SNR curve plots the spectral supernova remnants (SNR) as a function of the trail dispersion measure (DM).\n",
    "\n",
    "The question that this project will answer is **“Which variable, between integrated profile and DM-SNR, is a better predictor for class?”**\n",
    "\n",
    "The dataset that is used for this project provides information on 17,898 candidates—16,259 are examples of RFI/noise, and 1,639 are examples of real pulsars. 8 variables corresponding to data about the integrated profile and DM-SNR curve of the candidates, will be further analyzed in the project to answer the research question.\n"
   ]
  },
  {
   "cell_type": "code",
   "execution_count": null,
   "metadata": {},
   "outputs": [],
   "source": [
    "library(tidyverse)\n",
    "library(repr)\n",
    "library(RColorBrewer)\n",
    "library(tidymodels)"
   ]
  },
  {
   "cell_type": "code",
   "execution_count": null,
   "metadata": {},
   "outputs": [],
   "source": [
    "set.seed(19)\n",
    "# data loaded from ksenia\n",
    "\n",
    "pulsar_data <- read_csv(\"https://github.com/kseniak1/DSCI100-Group-Project/raw/main/HTRU_2%5B1%5D.csv\", col_names = FALSE) %>%\n",
    "                rename(mean_ip = X1,\n",
    "                      dev_ip = X2,\n",
    "                      excess_ip = X3,\n",
    "                      skewness_ip = X4,\n",
    "                      mean_dm = X5,\n",
    "                      dev_dm = X6,\n",
    "                      excess_dm = X7,\n",
    "                      skewness_dm = X8,\n",
    "                      class = X9) %>%\n",
    "                mutate(class = as.factor(class)) %>%\n",
    "                sample_n(500)                \n",
    "pulsar_data"
   ]
  },
  {
   "cell_type": "code",
   "execution_count": null,
   "metadata": {},
   "outputs": [],
   "source": [
    "set.seed(19)\n",
    "# data split into training and testing sets \n",
    "\n",
    "pulsar_split <- initial_split(pulsar_data, prop = 0.75, strata = class)\n",
    "pulsar_train <- training(pulsar_split)\n",
    "pulsar_test <- testing(pulsar_split)\n",
    "\n",
    "pulsar_test"
   ]
  },
  {
   "cell_type": "code",
   "execution_count": null,
   "metadata": {},
   "outputs": [],
   "source": [
    "set.seed(19)\n",
    "# 5-fold cross-validation on data\n",
    "pulsar_vfold <- vfold_cv(pulsar_train, v = 5, strata = class)\n",
    "pulsar_vfold"
   ]
  },
  {
   "cell_type": "code",
   "execution_count": 29,
   "metadata": {},
   "outputs": [
    {
     "data": {
      "text/plain": [
       "K-Nearest Neighbor Model Specification (classification)\n",
       "\n",
       "Main Arguments:\n",
       "  neighbors = tune()\n",
       "  weight_func = rectangular\n",
       "\n",
       "Computational engine: kknn \n"
      ]
     },
     "metadata": {},
     "output_type": "display_data"
    }
   ],
   "source": [
    "set.seed(19)\n",
    "# create model spec for knn\n",
    "knn_spec <- nearest_neighbor(weight_func = \"rectangular\", \n",
    "                             neighbors = tune()) %>%\n",
    "  set_engine(\"kknn\") %>%\n",
    "  set_mode(\"classification\")"
   ]
  },
  {
   "cell_type": "code",
   "execution_count": null,
   "metadata": {},
   "outputs": [],
   "source": []
  }
 ],
 "metadata": {
  "kernelspec": {
   "display_name": "R",
   "language": "R",
   "name": "ir"
  },
  "language_info": {
   "codemirror_mode": "r",
   "file_extension": ".r",
   "mimetype": "text/x-r-source",
   "name": "R",
   "pygments_lexer": "r",
   "version": "4.0.0"
  }
 },
 "nbformat": 4,
 "nbformat_minor": 4
}
