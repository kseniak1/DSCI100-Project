{
 "cells": [
  {
   "cell_type": "code",
   "execution_count": 1,
   "metadata": {},
   "outputs": [
    {
     "name": "stdout",
     "output_type": "stream",
     "text": [
      "[1] \"test\"\n"
     ]
    }
   ],
   "source": [
    "print(\"test\")"
   ]
  },
  {
   "cell_type": "code",
   "execution_count": 1,
   "metadata": {},
   "outputs": [
    {
     "name": "stderr",
     "output_type": "stream",
     "text": [
      "── \u001b[1mAttaching packages\u001b[22m ─────────────────────────────────────── tidyverse 1.3.0 ──\n",
      "\n",
      "\u001b[32m✔\u001b[39m \u001b[34mggplot2\u001b[39m 3.3.2     \u001b[32m✔\u001b[39m \u001b[34mpurrr  \u001b[39m 0.3.4\n",
      "\u001b[32m✔\u001b[39m \u001b[34mtibble \u001b[39m 3.0.3     \u001b[32m✔\u001b[39m \u001b[34mdplyr  \u001b[39m 1.0.2\n",
      "\u001b[32m✔\u001b[39m \u001b[34mtidyr  \u001b[39m 1.1.2     \u001b[32m✔\u001b[39m \u001b[34mstringr\u001b[39m 1.4.0\n",
      "\u001b[32m✔\u001b[39m \u001b[34mreadr  \u001b[39m 1.3.1     \u001b[32m✔\u001b[39m \u001b[34mforcats\u001b[39m 0.5.0\n",
      "\n",
      "Warning message:\n",
      "“package ‘ggplot2’ was built under R version 4.0.1”\n",
      "Warning message:\n",
      "“package ‘tibble’ was built under R version 4.0.2”\n",
      "Warning message:\n",
      "“package ‘tidyr’ was built under R version 4.0.2”\n",
      "Warning message:\n",
      "“package ‘dplyr’ was built under R version 4.0.2”\n",
      "── \u001b[1mConflicts\u001b[22m ────────────────────────────────────────── tidyverse_conflicts() ──\n",
      "\u001b[31m✖\u001b[39m \u001b[34mdplyr\u001b[39m::\u001b[32mfilter()\u001b[39m masks \u001b[34mstats\u001b[39m::filter()\n",
      "\u001b[31m✖\u001b[39m \u001b[34mdplyr\u001b[39m::\u001b[32mlag()\u001b[39m    masks \u001b[34mstats\u001b[39m::lag()\n",
      "\n",
      "Warning message:\n",
      "“package ‘tidymodels’ was built under R version 4.0.2”\n",
      "── \u001b[1mAttaching packages\u001b[22m ────────────────────────────────────── tidymodels 0.1.1 ──\n",
      "\n",
      "\u001b[32m✔\u001b[39m \u001b[34mbroom    \u001b[39m 0.7.0      \u001b[32m✔\u001b[39m \u001b[34mrecipes  \u001b[39m 0.1.13\n",
      "\u001b[32m✔\u001b[39m \u001b[34mdials    \u001b[39m 0.0.9      \u001b[32m✔\u001b[39m \u001b[34mrsample  \u001b[39m 0.0.7 \n",
      "\u001b[32m✔\u001b[39m \u001b[34minfer    \u001b[39m 0.5.4      \u001b[32m✔\u001b[39m \u001b[34mtune     \u001b[39m 0.1.1 \n",
      "\u001b[32m✔\u001b[39m \u001b[34mmodeldata\u001b[39m 0.0.2      \u001b[32m✔\u001b[39m \u001b[34mworkflows\u001b[39m 0.2.0 \n",
      "\u001b[32m✔\u001b[39m \u001b[34mparsnip  \u001b[39m 0.1.3      \u001b[32m✔\u001b[39m \u001b[34myardstick\u001b[39m 0.0.7 \n",
      "\n",
      "Warning message:\n",
      "“package ‘broom’ was built under R version 4.0.2”\n",
      "Warning message:\n",
      "“package ‘dials’ was built under R version 4.0.2”\n",
      "Warning message:\n",
      "“package ‘infer’ was built under R version 4.0.3”\n",
      "Warning message:\n",
      "“package ‘modeldata’ was built under R version 4.0.1”\n",
      "Warning message:\n",
      "“package ‘parsnip’ was built under R version 4.0.2”\n",
      "Warning message:\n",
      "“package ‘recipes’ was built under R version 4.0.1”\n",
      "Warning message:\n",
      "“package ‘tune’ was built under R version 4.0.2”\n",
      "Warning message:\n",
      "“package ‘workflows’ was built under R version 4.0.2”\n",
      "Warning message:\n",
      "“package ‘yardstick’ was built under R version 4.0.2”\n",
      "── \u001b[1mConflicts\u001b[22m ───────────────────────────────────────── tidymodels_conflicts() ──\n",
      "\u001b[31m✖\u001b[39m \u001b[34mscales\u001b[39m::\u001b[32mdiscard()\u001b[39m masks \u001b[34mpurrr\u001b[39m::discard()\n",
      "\u001b[31m✖\u001b[39m \u001b[34mdplyr\u001b[39m::\u001b[32mfilter()\u001b[39m   masks \u001b[34mstats\u001b[39m::filter()\n",
      "\u001b[31m✖\u001b[39m \u001b[34mrecipes\u001b[39m::\u001b[32mfixed()\u001b[39m  masks \u001b[34mstringr\u001b[39m::fixed()\n",
      "\u001b[31m✖\u001b[39m \u001b[34mdplyr\u001b[39m::\u001b[32mlag()\u001b[39m      masks \u001b[34mstats\u001b[39m::lag()\n",
      "\u001b[31m✖\u001b[39m \u001b[34myardstick\u001b[39m::\u001b[32mspec()\u001b[39m masks \u001b[34mreadr\u001b[39m::spec()\n",
      "\u001b[31m✖\u001b[39m \u001b[34mrecipes\u001b[39m::\u001b[32mstep()\u001b[39m   masks \u001b[34mstats\u001b[39m::step()\n",
      "\n"
     ]
    }
   ],
   "source": [
    "library(tidyverse)\n",
    "library(repr)\n",
    "library(RColorBrewer)\n",
    "library(tidymodels)"
   ]
  },
  {
   "cell_type": "code",
   "execution_count": 23,
   "metadata": {},
   "outputs": [
    {
     "name": "stderr",
     "output_type": "stream",
     "text": [
      "Parsed with column specification:\n",
      "cols(\n",
      "  X1 = \u001b[32mcol_double()\u001b[39m,\n",
      "  X2 = \u001b[32mcol_double()\u001b[39m,\n",
      "  X3 = \u001b[32mcol_double()\u001b[39m,\n",
      "  X4 = \u001b[32mcol_double()\u001b[39m,\n",
      "  X5 = \u001b[32mcol_double()\u001b[39m,\n",
      "  X6 = \u001b[32mcol_double()\u001b[39m,\n",
      "  X7 = \u001b[32mcol_double()\u001b[39m,\n",
      "  X8 = \u001b[32mcol_double()\u001b[39m,\n",
      "  X9 = \u001b[32mcol_double()\u001b[39m\n",
      ")\n",
      "\n"
     ]
    }
   ],
   "source": [
    "set.seed(19)\n",
    "\n",
    "#loading data -> from Ksenia's notebook\n",
    "pulsar_data <- read_csv(\"https://github.com/kseniak1/DSCI100-Group-Project/raw/main/HTRU_2%5B1%5D.csv\", col_names = FALSE) %>%\n",
    "                rename(mean_ip = X1,\n",
    "                      dev_ip = X2,\n",
    "                      excess_ip = X3,\n",
    "                      skewness_ip = X4,\n",
    "                      mean_dm = X5,\n",
    "                      dev_dm = X6,\n",
    "                      excess_dm = X7,\n",
    "                      skewness_dm = X8,\n",
    "                      class = X9) %>%\n",
    "                mutate(class = as.factor(class))\n",
    "\n",
    "#reduce data\n",
    "reduced_pulsar <- pulsar_data %>%\n",
    "    group_by(class) %>%\n",
    "    sample_n(size = 250)\n",
    "\n",
    "#split data\n",
    "pulsar_split <- initial_split(reduced_pulsar) \n",
    "pulsar_training <- training(pulsar_split) \n",
    "pulsar_testing <- testing(pulsar_split)\n",
    "\n",
    "#model specs\n",
    "knn_spec <- nearest_neighbor(weight = 'rectangular', neighbors = tune()) %>%\n",
    "    set_engine(\"kknn\") %>%\n",
    "    set_mode(\"classification\")\n",
    "\n",
    "#generic recipe\n",
    "recipe_n <- recipe(class ~., data = pulsar_training) %>%\n",
    "    step_scale(all_predictors()) %>%\n",
    "    step_center(all_predictors())\n",
    "\n",
    "#vfold\n",
    "vfold <- vfold_cv(pulsar_training, v = 5, strata = class)\n",
    "\n",
    "#k values\n",
    "k_values <- tibble(neighbors = seq(from = 1, to = 10))\n",
    "\n",
    "#generic workflow\n",
    "\n",
    "n_fit <- workflow() %>%\n",
    "    add_model(knn_spec) %>%\n",
    "    add_recipe(recipe_n) %>%\n",
    "    tune_grid(resamples = vfold, grid = k_values) %>%\n",
    "    collect_metrics() %>%\n",
    "    filter(.metric == \"accuracy\")\n",
    "\n",
    "#k vs accuracy plot\n",
    "#used template from worksheet classification 2 question 4.2\n",
    "\n",
    "plot_n <- ggplot(fit_n, aes(x = neighbors, y = mean))+\n",
    "       geom_point() +\n",
    "       geom_line() +\n",
    "       labs(x = \"Neighbors\", y = \"Accuracy Estimate\") +\n",
    "       scale_x_continuous(breaks = seq(0, 10, by = 1))\n"
   ]
  },
  {
   "cell_type": "code",
   "execution_count": 26,
   "metadata": {},
   "outputs": [
    {
     "data": {
      "image/png": "[encoded data removed]",
      "text/plain": [
       "plot without title"
      ]
     },
     "metadata": {
      "image/png": {
       "height": 420,
       "width": 420
      }
     },
     "output_type": "display_data"
    }
   ],
   "source": [
    "#1: Mean and standard dev (I)\n",
    "\n",
    "#generic recipe\n",
    "recipe_1 <- recipe(class ~ mean_ip + dev_ip, data = pulsar_training) %>%\n",
    "    step_scale(all_predictors()) %>%\n",
    "    step_center(all_predictors())\n",
    "\n",
    "#generic workflow\n",
    "\n",
    "fit_1 <- workflow() %>%\n",
    "    add_model(knn_spec) %>%\n",
    "    add_recipe(recipe_1) %>%\n",
    "    tune_grid(resamples = vfold, grid = k_values) %>%\n",
    "    collect_metrics() %>%\n",
    "    filter(.metric == \"accuracy\")\n",
    "\n",
    "#k vs accuracy plot\n",
    "#used template from worksheet classification 2 question 4.2\n",
    "\n",
    "plot_1 <- ggplot(fit_1, aes(x = neighbors, y = mean))+\n",
    "       geom_point() +\n",
    "       geom_line() +\n",
    "       labs(x = \"Neighbors\", y = \"Accuracy Estimate\") +\n",
    "       scale_x_continuous(breaks = seq(0, 10, by = 1))\n",
    "plot_1"
   ]
  },
  {
   "cell_type": "code",
   "execution_count": 27,
   "metadata": {},
   "outputs": [
    {
     "data": {
      "image/png": "[encoded data removed]",
      "text/plain": [
       "plot without title"
      ]
     },
     "metadata": {
      "image/png": {
       "height": 420,
       "width": 420
      }
     },
     "output_type": "display_data"
    }
   ],
   "source": [
    "#2: Mean and skewness (I)\n",
    "\n",
    "#generic recipe\n",
    "recipe_2 <- recipe(class ~ mean_ip + skewness_ip, data = pulsar_training) %>%\n",
    "    step_scale(all_predictors()) %>%\n",
    "    step_center(all_predictors())\n",
    "\n",
    "#generic workflow\n",
    "\n",
    "fit_2 <- workflow() %>%\n",
    "    add_model(knn_spec) %>%\n",
    "    add_recipe(recipe_2) %>%\n",
    "    tune_grid(resamples = vfold, grid = k_values) %>%\n",
    "    collect_metrics() %>%\n",
    "    filter(.metric == \"accuracy\")\n",
    "\n",
    "#k vs accuracy plot\n",
    "\n",
    "plot_2 <- ggplot(fit_2, aes(x = neighbors, y = mean))+\n",
    "       geom_point() +\n",
    "       geom_line() +\n",
    "       labs(x = \"Neighbors\", y = \"Accuracy Estimate\") +\n",
    "       scale_x_continuous(breaks = seq(0, 10, by = 1))\n",
    "plot_2"
   ]
  },
  {
   "cell_type": "code",
   "execution_count": null,
   "metadata": {},
   "outputs": [],
   "source": [
    "#3: Mean and excess kurtosis (I)\n",
    "\n",
    "#generic recipe\n",
    "recipe_3 <- recipe(class ~ mean_ip + excess_ip, data = pulsar_training) %>%\n",
    "    step_scale(all_predictors()) %>%\n",
    "    step_center(all_predictors())\n",
    "\n",
    "#generic workflow\n",
    "\n",
    "fit_3 <- workflow() %>%\n",
    "    add_model(knn_spec) %>%\n",
    "    add_recipe(recipe_3) %>%\n",
    "    tune_grid(resamples = vfold, grid = k_values) %>%\n",
    "    collect_metrics() %>%\n",
    "    filter(.metric == \"accuracy\")\n",
    "\n",
    "#k vs accuracy plot\n",
    "\n",
    "plot_3 <- ggplot(fit_3, aes(x = neighbors, y = mean))+\n",
    "       geom_point() +\n",
    "       geom_line() +\n",
    "       labs(x = \"Neighbors\", y = \"Accuracy Estimate\") +\n",
    "       scale_x_continuous(breaks = seq(0, 10, by = 1))"
   ]
  },
  {
   "cell_type": "code",
   "execution_count": null,
   "metadata": {},
   "outputs": [],
   "source": [
    "#4: Mean and standard dev (D)\n",
    "\n",
    "#generic recipe\n",
    "recipe_4 <- recipe(class ~ mean_dm + dev_dm, data = pulsar_training) %>%\n",
    "    step_scale(all_predictors()) %>%\n",
    "    step_center(all_predictors())\n",
    "\n",
    "#generic workflow\n",
    "\n",
    "fit_4 <- workflow() %>%\n",
    "    add_model(knn_spec) %>%\n",
    "    add_recipe(recipe_4) %>%\n",
    "    tune_grid(resamples = vfold, grid = k_values) %>%\n",
    "    collect_metrics() %>%\n",
    "    filter(.metric == \"accuracy\")\n",
    "\n",
    "#k vs accuracy plot\n",
    "\n",
    "plot_4 <- ggplot(fit_4, aes(x = neighbors, y = mean))+\n",
    "       geom_point() +\n",
    "       geom_line() +\n",
    "       labs(x = \"Neighbors\", y = \"Accuracy Estimate\") +\n",
    "       scale_x_continuous(breaks = seq(0, 10, by = 1))"
   ]
  },
  {
   "cell_type": "code",
   "execution_count": null,
   "metadata": {},
   "outputs": [],
   "source": [
    "#5: Mean and skewness (D)\n",
    "\n",
    "#generic recipe\n",
    "recipe_5 <- recipe(class ~ mean_dm + skewness_dm, data = pulsar_training) %>%\n",
    "    step_scale(all_predictors()) %>%\n",
    "    step_center(all_predictors())\n",
    "\n",
    "#generic workflow\n",
    "\n",
    "fit_5 <- workflow() %>%\n",
    "    add_model(knn_spec) %>%\n",
    "    add_recipe(recipe_5) %>%\n",
    "    tune_grid(resamples = vfold, grid = k_values) %>%\n",
    "    collect_metrics() %>%\n",
    "    filter(.metric == \"accuracy\")\n",
    "\n",
    "#k vs accuracy plot\n",
    "\n",
    "plot_5 <- ggplot(fit_5, aes(x = neighbors, y = mean))+\n",
    "       geom_point() +\n",
    "       geom_line() +\n",
    "       labs(x = \"Neighbors\", y = \"Accuracy Estimate\") +\n",
    "       scale_x_continuous(breaks = seq(0, 10, by = 1))"
   ]
  },
  {
   "cell_type": "code",
   "execution_count": null,
   "metadata": {},
   "outputs": [],
   "source": [
    "#6: Mean and excess kurtosis (D)\n",
    "\n",
    "#generic recipe\n",
    "recipe_6 <- recipe(class ~ mean_dm + excess_dm, data = pulsar_training) %>%\n",
    "    step_scale(all_predictors()) %>%\n",
    "    step_center(all_predictors())\n",
    "\n",
    "#generic workflow\n",
    "\n",
    "fit_6 <- workflow() %>%\n",
    "    add_model(knn_spec) %>%\n",
    "    add_recipe(recipe_6) %>%\n",
    "    tune_grid(resamples = vfold, grid = k_values) %>%\n",
    "    collect_metrics() %>%\n",
    "    filter(.metric == \"accuracy\")\n",
    "\n",
    "#k vs accuracy plot\n",
    "\n",
    "plot_6 <- ggplot(fit_6, aes(x = neighbors, y = mean))+\n",
    "       geom_point() +\n",
    "       geom_line() +\n",
    "       labs(x = \"Neighbors\", y = \"Accuracy Estimate\") +\n",
    "       scale_x_continuous(breaks = seq(0, 10, by = 1))"
   ]
  }
 ],
 "metadata": {
  "kernelspec": {
   "display_name": "R",
   "language": "R",
   "name": "ir"
  },
  "language_info": {
   "codemirror_mode": "r",
   "file_extension": ".r",
   "mimetype": "text/x-r-source",
   "name": "R",
   "pygments_lexer": "r",
   "version": "4.0.0"
  }
 },
 "nbformat": 4,
 "nbformat_minor": 4
}
