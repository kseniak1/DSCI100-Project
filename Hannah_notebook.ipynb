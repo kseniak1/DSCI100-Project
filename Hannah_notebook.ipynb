{
 "cells": [
  {
   "cell_type": "code",
   "execution_count": 1,
   "metadata": {},
   "outputs": [
    {
     "name": "stdout",
     "output_type": "stream",
     "text": [
      "[1] \"test\"\n"
     ]
    }
   ],
   "source": [
    "print(\"test\")"
   ]
  },
  {
   "cell_type": "raw",
   "metadata": {},
   "source": [
    "In investigating whether integrated profile or DM-SNR curve best predict whether or not an observation is classified as an  \n",
    "\n",
    "As discussed under \"Data Set Information\" on the database this was retrieved from (https://archive.ics.uci.edu/ml/datasets/HTRU2), due to their rotation and emission patterns pulsars are hard to detect. They are detected by observing patterns in radio signals, though not all radio signals are pulsars. By "
   ]
  }
 ],
 "metadata": {
  "kernelspec": {
   "display_name": "R",
   "language": "R",
   "name": "ir"
  },
  "language_info": {
   "codemirror_mode": "r",
   "file_extension": ".r",
   "mimetype": "text/x-r-source",
   "name": "R",
   "pygments_lexer": "r",
   "version": "4.0.0"
  }
 },
 "nbformat": 4,
 "nbformat_minor": 4
}
